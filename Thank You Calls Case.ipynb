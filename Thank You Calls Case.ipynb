{
 "cells": [
  {
   "cell_type": "markdown",
   "metadata": {},
   "source": [
    "# Thank You Calls Case\n",
    "\n",
    "The given dataset from a travel company represents a subset of customers whose first booking was between 200 and 300 dollars. After their first hotel stay, a bot sent out thank you calls to certain customers, in the company's attempt to build a rapport with clients. The bot had only began sending out these calls in 2018 and 2019."
   ]
  },
  {
   "cell_type": "markdown",
   "metadata": {},
   "source": [
    "First, I will be importing the relevanat data analysis libraries: NumPy, Pandas, Matplotlib, and Seaborn. I also like iplot() from cufflinks when exploring the dataset."
   ]
  },
  {
   "cell_type": "code",
   "execution_count": 1,
   "metadata": {},
   "outputs": [
    {
     "data": {
      "text/html": [
       "        <script type=\"text/javascript\">\n",
       "        window.PlotlyConfig = {MathJaxConfig: 'local'};\n",
       "        if (window.MathJax) {MathJax.Hub.Config({SVG: {font: \"STIX-Web\"}});}\n",
       "        if (typeof require !== 'undefined') {\n",
       "        require.undef(\"plotly\");\n",
       "        requirejs.config({\n",
       "            paths: {\n",
       "                'plotly': ['https://cdn.plot.ly/plotly-latest.min']\n",
       "            }\n",
       "        });\n",
       "        require(['plotly'], function(Plotly) {\n",
       "            window._Plotly = Plotly;\n",
       "        });\n",
       "        }\n",
       "        </script>\n",
       "        "
      ]
     },
     "metadata": {},
     "output_type": "display_data"
    },
    {
     "data": {
      "text/html": [
       "        <script type=\"text/javascript\">\n",
       "        window.PlotlyConfig = {MathJaxConfig: 'local'};\n",
       "        if (window.MathJax) {MathJax.Hub.Config({SVG: {font: \"STIX-Web\"}});}\n",
       "        if (typeof require !== 'undefined') {\n",
       "        require.undef(\"plotly\");\n",
       "        requirejs.config({\n",
       "            paths: {\n",
       "                'plotly': ['https://cdn.plot.ly/plotly-latest.min']\n",
       "            }\n",
       "        });\n",
       "        require(['plotly'], function(Plotly) {\n",
       "            window._Plotly = Plotly;\n",
       "        });\n",
       "        }\n",
       "        </script>\n",
       "        "
      ]
     },
     "metadata": {},
     "output_type": "display_data"
    }
   ],
   "source": [
    "import numpy as np\n",
    "import pandas as pd\n",
    "import matplotlib.pyplot as plt\n",
    "import seaborn as sns\n",
    "%matplotlib inline\n",
    "\n",
    "import cufflinks as cf\n",
    "from plotly.offline import download_plotlyjs, init_notebook_mode, plot, iplot \n",
    "init_notebook_mode(connected=True)\n",
    "cf.go_offline()\n",
    "\n",
    "# Ignore Warnings\n",
    "import warnings\n",
    "warnings.filterwarnings(\"ignore\")"
   ]
  },
  {
   "cell_type": "markdown",
   "metadata": {},
   "source": [
    "**Import the dataset as a Pandas DataFrame**"
   ]
  },
  {
   "cell_type": "code",
   "execution_count": 2,
   "metadata": {},
   "outputs": [
    {
     "data": {
      "text/html": [
       "<div>\n",
       "<style scoped>\n",
       "    .dataframe tbody tr th:only-of-type {\n",
       "        vertical-align: middle;\n",
       "    }\n",
       "\n",
       "    .dataframe tbody tr th {\n",
       "        vertical-align: top;\n",
       "    }\n",
       "\n",
       "    .dataframe thead th {\n",
       "        text-align: right;\n",
       "    }\n",
       "</style>\n",
       "<table border=\"1\" class=\"dataframe\">\n",
       "  <thead>\n",
       "    <tr style=\"text-align: right;\">\n",
       "      <th></th>\n",
       "      <th>USER_ID</th>\n",
       "      <th>MONTH</th>\n",
       "      <th>THANK_YOU_STATUS</th>\n",
       "      <th>LTR</th>\n",
       "      <th>BOOKINGS</th>\n",
       "      <th>GMV</th>\n",
       "    </tr>\n",
       "  </thead>\n",
       "  <tbody>\n",
       "    <tr>\n",
       "      <th>0</th>\n",
       "      <td>10157</td>\n",
       "      <td>2018-09-01</td>\n",
       "      <td>thank_you_call</td>\n",
       "      <td>106.640369</td>\n",
       "      <td>6.0</td>\n",
       "      <td>4926.957</td>\n",
       "    </tr>\n",
       "    <tr>\n",
       "      <th>1</th>\n",
       "      <td>10263</td>\n",
       "      <td>2018-03-01</td>\n",
       "      <td>thank_you_call</td>\n",
       "      <td>388.322847</td>\n",
       "      <td>25.0</td>\n",
       "      <td>18481.635</td>\n",
       "    </tr>\n",
       "    <tr>\n",
       "      <th>2</th>\n",
       "      <td>10362</td>\n",
       "      <td>2018-01-01</td>\n",
       "      <td>thank_you_call</td>\n",
       "      <td>588.327102</td>\n",
       "      <td>15.0</td>\n",
       "      <td>7010.647</td>\n",
       "    </tr>\n",
       "    <tr>\n",
       "      <th>3</th>\n",
       "      <td>10382</td>\n",
       "      <td>2018-11-01</td>\n",
       "      <td>thank_you_call</td>\n",
       "      <td>6.402000</td>\n",
       "      <td>2.0</td>\n",
       "      <td>1144.032</td>\n",
       "    </tr>\n",
       "    <tr>\n",
       "      <th>4</th>\n",
       "      <td>10463</td>\n",
       "      <td>2019-01-01</td>\n",
       "      <td>no_call</td>\n",
       "      <td>51.815610</td>\n",
       "      <td>3.0</td>\n",
       "      <td>1271.090</td>\n",
       "    </tr>\n",
       "  </tbody>\n",
       "</table>\n",
       "</div>"
      ],
      "text/plain": [
       "   USER_ID       MONTH THANK_YOU_STATUS         LTR  BOOKINGS        GMV\n",
       "0    10157  2018-09-01   thank_you_call  106.640369       6.0   4926.957\n",
       "1    10263  2018-03-01   thank_you_call  388.322847      25.0  18481.635\n",
       "2    10362  2018-01-01   thank_you_call  588.327102      15.0   7010.647\n",
       "3    10382  2018-11-01   thank_you_call    6.402000       2.0   1144.032\n",
       "4    10463  2019-01-01          no_call   51.815610       3.0   1271.090"
      ]
     },
     "execution_count": 2,
     "metadata": {},
     "output_type": "execute_result"
    }
   ],
   "source": [
    "df = pd.read_csv('Thank YOU Call Data.csv')\n",
    "df.head()"
   ]
  },
  {
   "cell_type": "code",
   "execution_count": 3,
   "metadata": {},
   "outputs": [
    {
     "name": "stdout",
     "output_type": "stream",
     "text": [
      "<class 'pandas.core.frame.DataFrame'>\n",
      "RangeIndex: 23759 entries, 0 to 23758\n",
      "Data columns (total 6 columns):\n",
      "USER_ID             23759 non-null int64\n",
      "MONTH               23759 non-null object\n",
      "THANK_YOU_STATUS    23759 non-null object\n",
      "LTR                 23202 non-null float64\n",
      "BOOKINGS            23202 non-null float64\n",
      "GMV                 23202 non-null float64\n",
      "dtypes: float64(3), int64(1), object(2)\n",
      "memory usage: 1.1+ MB\n"
     ]
    }
   ],
   "source": [
    "# Check the info() of the DataFrame\n",
    "\n",
    "df.info()"
   ]
  },
  {
   "cell_type": "code",
   "execution_count": 4,
   "metadata": {},
   "outputs": [
    {
     "data": {
      "text/html": [
       "<div>\n",
       "<style scoped>\n",
       "    .dataframe tbody tr th:only-of-type {\n",
       "        vertical-align: middle;\n",
       "    }\n",
       "\n",
       "    .dataframe tbody tr th {\n",
       "        vertical-align: top;\n",
       "    }\n",
       "\n",
       "    .dataframe thead th {\n",
       "        text-align: right;\n",
       "    }\n",
       "</style>\n",
       "<table border=\"1\" class=\"dataframe\">\n",
       "  <thead>\n",
       "    <tr style=\"text-align: right;\">\n",
       "      <th></th>\n",
       "      <th>LTR</th>\n",
       "      <th>BOOKINGS</th>\n",
       "      <th>GMV</th>\n",
       "    </tr>\n",
       "  </thead>\n",
       "  <tbody>\n",
       "    <tr>\n",
       "      <th>count</th>\n",
       "      <td>23202.000000</td>\n",
       "      <td>23202.000000</td>\n",
       "      <td>23202.000000</td>\n",
       "    </tr>\n",
       "    <tr>\n",
       "      <th>mean</th>\n",
       "      <td>73.784503</td>\n",
       "      <td>1.920869</td>\n",
       "      <td>1120.685785</td>\n",
       "    </tr>\n",
       "    <tr>\n",
       "      <th>std</th>\n",
       "      <td>106.030714</td>\n",
       "      <td>15.036952</td>\n",
       "      <td>1831.220249</td>\n",
       "    </tr>\n",
       "    <tr>\n",
       "      <th>min</th>\n",
       "      <td>0.006633</td>\n",
       "      <td>1.000000</td>\n",
       "      <td>502.554000</td>\n",
       "    </tr>\n",
       "    <tr>\n",
       "      <th>25%</th>\n",
       "      <td>42.504000</td>\n",
       "      <td>1.000000</td>\n",
       "      <td>592.224750</td>\n",
       "    </tr>\n",
       "    <tr>\n",
       "      <th>50%</th>\n",
       "      <td>53.322500</td>\n",
       "      <td>1.000000</td>\n",
       "      <td>700.493500</td>\n",
       "    </tr>\n",
       "    <tr>\n",
       "      <th>75%</th>\n",
       "      <td>70.994000</td>\n",
       "      <td>2.000000</td>\n",
       "      <td>871.887500</td>\n",
       "    </tr>\n",
       "    <tr>\n",
       "      <th>max</th>\n",
       "      <td>5122.086550</td>\n",
       "      <td>2012.000000</td>\n",
       "      <td>73247.220000</td>\n",
       "    </tr>\n",
       "  </tbody>\n",
       "</table>\n",
       "</div>"
      ],
      "text/plain": [
       "                LTR      BOOKINGS           GMV\n",
       "count  23202.000000  23202.000000  23202.000000\n",
       "mean      73.784503      1.920869   1120.685785\n",
       "std      106.030714     15.036952   1831.220249\n",
       "min        0.006633      1.000000    502.554000\n",
       "25%       42.504000      1.000000    592.224750\n",
       "50%       53.322500      1.000000    700.493500\n",
       "75%       70.994000      2.000000    871.887500\n",
       "max     5122.086550   2012.000000  73247.220000"
      ]
     },
     "execution_count": 4,
     "metadata": {},
     "output_type": "execute_result"
    }
   ],
   "source": [
    "df.describe()[['LTR','BOOKINGS','GMV']]"
   ]
  },
  {
   "cell_type": "markdown",
   "metadata": {},
   "source": [
    "Instinctively, I want to see how many customers were in each cohort:\n",
    "\n",
    "**Cohort 1:** Customers who were given a thank you call\n",
    "\n",
    "**Cohort 2:** Customers who were not given a thank you call"
   ]
  },
  {
   "cell_type": "code",
   "execution_count": 5,
   "metadata": {},
   "outputs": [
    {
     "data": {
      "text/plain": [
       "no_call           15472\n",
       "thank_you_call     8287\n",
       "Name: THANK_YOU_STATUS, dtype: int64"
      ]
     },
     "execution_count": 5,
     "metadata": {},
     "output_type": "execute_result"
    }
   ],
   "source": [
    "# Check how many customers were given a thank you call, and how many were not.\n",
    "\n",
    "df['THANK_YOU_STATUS'].value_counts()"
   ]
  },
  {
   "cell_type": "code",
   "execution_count": 6,
   "metadata": {},
   "outputs": [
    {
     "data": {
      "text/plain": [
       "<matplotlib.axes._subplots.AxesSubplot at 0x1c1e3472b0>"
      ]
     },
     "execution_count": 6,
     "metadata": {},
     "output_type": "execute_result"
    },
    {
     "data": {
      "image/png": "[encoded data removed]",
      "text/plain": [
       "<Figure size 432x288 with 1 Axes>"
      ]
     },
     "metadata": {},
     "output_type": "display_data"
    }
   ],
   "source": [
    "# Visualize the number of customers in each cohort\n",
    "\n",
    "sns.countplot(data=df,x='THANK_YOU_STATUS',palette='coolwarm')"
   ]
  },
  {
   "cell_type": "code",
   "execution_count": 7,
   "metadata": {},
   "outputs": [
    {
     "data": {
      "application/vnd.plotly.v1+json": {
       "config": {
        "linkText": "Export to plot.ly",
        "plotlyServerURL": "https://plot.ly",
        "showLink": true
       },
       "data": [
        {
         "line": {
          "color": "rgba(255, 153, 51, 1.0)",
          "dash": "solid",
          "shape": "linear",
          "width": 1.3
         },
         "mode": "lines",
         "name": "no_call",
         "text": "",
         "type": "scatter",
         "uid": "02f70796-a5df-47b1-8c33-8b7485778fca",
         "x": [
          "2017-05-01",
          "2017-06-01",
          "2017-07-01",
          "2017-08-01",
          "2017-09-01",
          "2017-10-01",
          "2017-11-01",
          "2017-12-01",
          "2018-01-01",
          "2018-02-01",
          "2018-03-01",
          "2018-04-01",
          "2018-05-01",
          "2018-06-01",
          "2018-07-01",
          "2018-08-01",
          "2018-09-01",
          "2018-10-01",
          "2018-11-01",
          "2018-12-01",
          "2019-01-01",
          "2019-02-01",
          "2019-03-01",
          "2019-04-01",
          "2019-05-01",
          "2019-06-01"
         ],
         "y": [
          2,
          1,
          "",
          8,
          4,
          11,
          61,
          124,
          404,
          509,
          659,
          524,
          529,
          1017,
          1159,
          1075,
          772,
          849,
          802,
          725,
          1373,
          1347,
          981,
          1302,
          1207,
          27
         ]
        },
        {
         "line": {
          "color": "rgba(55, 128, 191, 1.0)",
          "dash": "solid",
          "shape": "linear",
          "width": 1.3
         },
         "mode": "lines",
         "name": "thank_you_call",
         "text": "",
         "type": "scatter",
         "uid": "9bc4960a-fcd0-4758-86d4-47be0262978e",
         "x": [
          "2017-05-01",
          "2017-06-01",
          "2017-07-01",
          "2017-08-01",
          "2017-09-01",
          "2017-10-01",
          "2017-11-01",
          "2017-12-01",
          "2018-01-01",
          "2018-02-01",
          "2018-03-01",
          "2018-04-01",
          "2018-05-01",
          "2018-06-01",
          "2018-07-01",
          "2018-08-01",
          "2018-09-01",
          "2018-10-01",
          "2018-11-01",
          "2018-12-01",
          "2019-01-01",
          "2019-02-01",
          "2019-03-01",
          "2019-04-01",
          "2019-05-01",
          "2019-06-01"
         ],
         "y": [
          "",
          1,
          1,
          2,
          6,
          36,
          80,
          158,
          473,
          496,
          471,
          392,
          389,
          596,
          753,
          710,
          544,
          630,
          474,
          259,
          331,
          311,
          371,
          429,
          374,
          ""
         ]
        }
       ],
       "layout": {
        "legend": {
         "bgcolor": "#F5F6F9",
         "font": {
          "color": "#4D5663"
         }
        },
        "paper_bgcolor": "#F5F6F9",
        "plot_bgcolor": "#F5F6F9",
        "title": {
         "font": {
          "color": "#4D5663"
         }
        },
        "xaxis": {
         "gridcolor": "#E1E5ED",
         "showgrid": true,
         "tickfont": {
          "color": "#4D5663"
         },
         "title": {
          "font": {
           "color": "#4D5663"
          },
          "text": ""
         },
         "zerolinecolor": "#E1E5ED"
        },
        "yaxis": {
         "gridcolor": "#E1E5ED",
         "showgrid": true,
         "tickfont": {
          "color": "#4D5663"
         },
         "title": {
          "font": {
           "color": "#4D5663"
          },
          "text": ""
         },
         "zerolinecolor": "#E1E5ED"
        }
       }
      },
      "text/html": [
       "<div>\n",
       "        \n",
       "        \n",
       "            <div id=\"35674688-9d36-4424-92a7-025611709757\" class=\"plotly-graph-div\" style=\"height:525px; width:100%;\"></div>\n",
       "            <script type=\"text/javascript\">\n",
       "                require([\"plotly\"], function(Plotly) {\n",
       "                    window.PLOTLYENV=window.PLOTLYENV || {};\n",
       "                    window.PLOTLYENV.BASE_URL='https://plot.ly';\n",
       "                    \n",
       "                if (document.getElementById(\"35674688-9d36-4424-92a7-025611709757\")) {\n",
       "                    Plotly.newPlot(\n",
       "                        '35674688-9d36-4424-92a7-025611709757',\n",
       "                        [{\"line\": {\"color\": \"rgba(255, 153, 51, 1.0)\", \"dash\": \"solid\", \"shape\": \"linear\", \"width\": 1.3}, \"mode\": \"lines\", \"name\": \"no_call\", \"text\": \"\", \"type\": \"scatter\", \"uid\": \"02f70796-a5df-47b1-8c33-8b7485778fca\", \"x\": [\"2017-05-01\", \"2017-06-01\", \"2017-07-01\", \"2017-08-01\", \"2017-09-01\", \"2017-10-01\", \"2017-11-01\", \"2017-12-01\", \"2018-01-01\", \"2018-02-01\", \"2018-03-01\", \"2018-04-01\", \"2018-05-01\", \"2018-06-01\", \"2018-07-01\", \"2018-08-01\", \"2018-09-01\", \"2018-10-01\", \"2018-11-01\", \"2018-12-01\", \"2019-01-01\", \"2019-02-01\", \"2019-03-01\", \"2019-04-01\", \"2019-05-01\", \"2019-06-01\"], \"y\": [2.0, 1.0, \"\", 8.0, 4.0, 11.0, 61.0, 124.0, 404.0, 509.0, 659.0, 524.0, 529.0, 1017.0, 1159.0, 1075.0, 772.0, 849.0, 802.0, 725.0, 1373.0, 1347.0, 981.0, 1302.0, 1207.0, 27.0]}, {\"line\": {\"color\": \"rgba(55, 128, 191, 1.0)\", \"dash\": \"solid\", \"shape\": \"linear\", \"width\": 1.3}, \"mode\": \"lines\", \"name\": \"thank_you_call\", \"text\": \"\", \"type\": \"scatter\", \"uid\": \"9bc4960a-fcd0-4758-86d4-47be0262978e\", \"x\": [\"2017-05-01\", \"2017-06-01\", \"2017-07-01\", \"2017-08-01\", \"2017-09-01\", \"2017-10-01\", \"2017-11-01\", \"2017-12-01\", \"2018-01-01\", \"2018-02-01\", \"2018-03-01\", \"2018-04-01\", \"2018-05-01\", \"2018-06-01\", \"2018-07-01\", \"2018-08-01\", \"2018-09-01\", \"2018-10-01\", \"2018-11-01\", \"2018-12-01\", \"2019-01-01\", \"2019-02-01\", \"2019-03-01\", \"2019-04-01\", \"2019-05-01\", \"2019-06-01\"], \"y\": [\"\", 1.0, 1.0, 2.0, 6.0, 36.0, 80.0, 158.0, 473.0, 496.0, 471.0, 392.0, 389.0, 596.0, 753.0, 710.0, 544.0, 630.0, 474.0, 259.0, 331.0, 311.0, 371.0, 429.0, 374.0, \"\"]}],\n",
       "                        {\"legend\": {\"bgcolor\": \"#F5F6F9\", \"font\": {\"color\": \"#4D5663\"}}, \"paper_bgcolor\": \"#F5F6F9\", \"plot_bgcolor\": \"#F5F6F9\", \"title\": {\"font\": {\"color\": \"#4D5663\"}}, \"xaxis\": {\"gridcolor\": \"#E1E5ED\", \"showgrid\": true, \"tickfont\": {\"color\": \"#4D5663\"}, \"title\": {\"font\": {\"color\": \"#4D5663\"}, \"text\": \"\"}, \"zerolinecolor\": \"#E1E5ED\"}, \"yaxis\": {\"gridcolor\": \"#E1E5ED\", \"showgrid\": true, \"tickfont\": {\"color\": \"#4D5663\"}, \"title\": {\"font\": {\"color\": \"#4D5663\"}, \"text\": \"\"}, \"zerolinecolor\": \"#E1E5ED\"}},\n",
       "                        {\"showLink\": true, \"linkText\": \"Export to plot.ly\", \"plotlyServerURL\": \"https://plot.ly\", \"responsive\": true}\n",
       "                    ).then(function(){\n",
       "                            \n",
       "var gd = document.getElementById('35674688-9d36-4424-92a7-025611709757');\n",
       "var x = new MutationObserver(function (mutations, observer) {{\n",
       "        var display = window.getComputedStyle(gd).display;\n",
       "        if (!display || display === 'none') {{\n",
       "            console.log([gd, 'removed!']);\n",
       "            Plotly.purge(gd);\n",
       "            observer.disconnect();\n",
       "        }}\n",
       "}});\n",
       "\n",
       "// Listen for the removal of the full notebook cells\n",
       "var notebookContainer = gd.closest('#notebook-container');\n",
       "if (notebookContainer) {{\n",
       "    x.observe(notebookContainer, {childList: true});\n",
       "}}\n",
       "\n",
       "// Listen for the clearing of the current output cell\n",
       "var outputEl = gd.closest('.output');\n",
       "if (outputEl) {{\n",
       "    x.observe(outputEl, {childList: true});\n",
       "}}\n",
       "\n",
       "                        })\n",
       "                };\n",
       "                });\n",
       "            </script>\n",
       "        </div>"
      ]
     },
     "metadata": {},
     "output_type": "display_data"
    }
   ],
   "source": [
    "# Visualize the Month over Month change for the number of customers in each cohort\n",
    "# To do so, I need to create a pivot table representing the number of customers whose first purchase was in each month\n",
    "\n",
    "monthlyThankYouStatus = df.pivot_table(values='USER_ID',index='MONTH',columns='THANK_YOU_STATUS',aggfunc='count')\n",
    "monthlyThankYouStatus.iplot()"
   ]
  },
  {
   "cell_type": "markdown",
   "metadata": {},
   "source": [
    "## Data Cleaning\n",
    "\n",
    "Looking at this information, we'll want to clean the data first and foremost, which can be done in the following ways:\n",
    "\n",
    "First: Removing any months where there is no overlap between both cohorts, since we want to compare month over month behaviour for each cohort. This can be seen in June 2019. I will, however, first need to check if the average GMV per booking may skew results if that subset is excluded from the analysis. To do so, I need to calculate the average GMV per booking for each customer and see if that changes significantly in June 2019."
   ]
  },
  {
   "cell_type": "code",
   "execution_count": 8,
   "metadata": {},
   "outputs": [
    {
     "data": {
      "text/html": [
       "<div>\n",
       "<style scoped>\n",
       "    .dataframe tbody tr th:only-of-type {\n",
       "        vertical-align: middle;\n",
       "    }\n",
       "\n",
       "    .dataframe tbody tr th {\n",
       "        vertical-align: top;\n",
       "    }\n",
       "\n",
       "    .dataframe thead th {\n",
       "        text-align: right;\n",
       "    }\n",
       "</style>\n",
       "<table border=\"1\" class=\"dataframe\">\n",
       "  <thead>\n",
       "    <tr style=\"text-align: right;\">\n",
       "      <th></th>\n",
       "      <th>USER_ID</th>\n",
       "      <th>MONTH</th>\n",
       "      <th>THANK_YOU_STATUS</th>\n",
       "      <th>LTR</th>\n",
       "      <th>BOOKINGS</th>\n",
       "      <th>GMV</th>\n",
       "      <th>Average_GMV_per_Booking</th>\n",
       "    </tr>\n",
       "  </thead>\n",
       "  <tbody>\n",
       "    <tr>\n",
       "      <th>0</th>\n",
       "      <td>10157</td>\n",
       "      <td>2018-09-01</td>\n",
       "      <td>thank_you_call</td>\n",
       "      <td>106.640369</td>\n",
       "      <td>6.0</td>\n",
       "      <td>4926.957</td>\n",
       "      <td>821.159500</td>\n",
       "    </tr>\n",
       "    <tr>\n",
       "      <th>1</th>\n",
       "      <td>10263</td>\n",
       "      <td>2018-03-01</td>\n",
       "      <td>thank_you_call</td>\n",
       "      <td>388.322847</td>\n",
       "      <td>25.0</td>\n",
       "      <td>18481.635</td>\n",
       "      <td>739.265400</td>\n",
       "    </tr>\n",
       "    <tr>\n",
       "      <th>2</th>\n",
       "      <td>10362</td>\n",
       "      <td>2018-01-01</td>\n",
       "      <td>thank_you_call</td>\n",
       "      <td>588.327102</td>\n",
       "      <td>15.0</td>\n",
       "      <td>7010.647</td>\n",
       "      <td>467.376467</td>\n",
       "    </tr>\n",
       "    <tr>\n",
       "      <th>3</th>\n",
       "      <td>10382</td>\n",
       "      <td>2018-11-01</td>\n",
       "      <td>thank_you_call</td>\n",
       "      <td>6.402000</td>\n",
       "      <td>2.0</td>\n",
       "      <td>1144.032</td>\n",
       "      <td>572.016000</td>\n",
       "    </tr>\n",
       "    <tr>\n",
       "      <th>4</th>\n",
       "      <td>10463</td>\n",
       "      <td>2019-01-01</td>\n",
       "      <td>no_call</td>\n",
       "      <td>51.815610</td>\n",
       "      <td>3.0</td>\n",
       "      <td>1271.090</td>\n",
       "      <td>423.696667</td>\n",
       "    </tr>\n",
       "  </tbody>\n",
       "</table>\n",
       "</div>"
      ],
      "text/plain": [
       "   USER_ID       MONTH THANK_YOU_STATUS         LTR  BOOKINGS        GMV  \\\n",
       "0    10157  2018-09-01   thank_you_call  106.640369       6.0   4926.957   \n",
       "1    10263  2018-03-01   thank_you_call  388.322847      25.0  18481.635   \n",
       "2    10362  2018-01-01   thank_you_call  588.327102      15.0   7010.647   \n",
       "3    10382  2018-11-01   thank_you_call    6.402000       2.0   1144.032   \n",
       "4    10463  2019-01-01          no_call   51.815610       3.0   1271.090   \n",
       "\n",
       "   Average_GMV_per_Booking  \n",
       "0               821.159500  \n",
       "1               739.265400  \n",
       "2               467.376467  \n",
       "3               572.016000  \n",
       "4               423.696667  "
      ]
     },
     "execution_count": 8,
     "metadata": {},
     "output_type": "execute_result"
    }
   ],
   "source": [
    "df['Average_GMV_per_Booking'] = df['GMV']/df['BOOKINGS']\n",
    "df.head()"
   ]
  },
  {
   "cell_type": "code",
   "execution_count": 9,
   "metadata": {},
   "outputs": [
    {
     "data": {
      "application/vnd.plotly.v1+json": {
       "config": {
        "linkText": "Export to plot.ly",
        "plotlyServerURL": "https://plot.ly",
        "showLink": true
       },
       "data": [
        {
         "line": {
          "color": "rgba(255, 153, 51, 1.0)",
          "dash": "solid",
          "shape": "linear",
          "width": 1.3
         },
         "mode": "lines",
         "name": "no_call",
         "text": "",
         "type": "scatter",
         "uid": "8e7bdfc5-e3dc-40ab-8d7d-cd164ac278d1",
         "x": [
          "2017-05-01",
          "2017-06-01",
          "2017-07-01",
          "2017-08-01",
          "2017-09-01",
          "2017-10-01",
          "2017-11-01",
          "2017-12-01",
          "2018-01-01",
          "2018-02-01",
          "2018-03-01",
          "2018-04-01",
          "2018-05-01",
          "2018-06-01",
          "2018-07-01",
          "2018-08-01",
          "2018-09-01",
          "2018-10-01",
          "2018-11-01",
          "2018-12-01",
          "2019-01-01",
          "2019-02-01",
          "2019-03-01",
          "2019-04-01",
          "2019-05-01",
          "2019-06-01"
         ],
         "y": [
          "",
          1013.642,
          "",
          591.7094880952382,
          616.3222499999999,
          538.0893518518519,
          652.1442078754579,
          689.5507205002185,
          653.2895677159464,
          646.9234142269031,
          653.9599470287848,
          641.019072955259,
          648.4516960496628,
          651.5182268039291,
          642.2254386242499,
          643.0554884760196,
          632.288877684651,
          634.862822401857,
          637.0494616642075,
          646.2387709595001,
          644.0537479051794,
          629.4825914596233,
          631.4595368102636,
          630.1102437436092,
          638.0365571894694,
          631.5034074074073
         ]
        },
        {
         "line": {
          "color": "rgba(55, 128, 191, 1.0)",
          "dash": "solid",
          "shape": "linear",
          "width": 1.3
         },
         "mode": "lines",
         "name": "thank_you_call",
         "text": "",
         "type": "scatter",
         "uid": "b5fb01da-21be-4908-b8da-f3f580e8c2da",
         "x": [
          "2017-05-01",
          "2017-06-01",
          "2017-07-01",
          "2017-08-01",
          "2017-09-01",
          "2017-10-01",
          "2017-11-01",
          "2017-12-01",
          "2018-01-01",
          "2018-02-01",
          "2018-03-01",
          "2018-04-01",
          "2018-05-01",
          "2018-06-01",
          "2018-07-01",
          "2018-08-01",
          "2018-09-01",
          "2018-10-01",
          "2018-11-01",
          "2018-12-01",
          "2019-01-01",
          "2019-02-01",
          "2019-03-01",
          "2019-04-01",
          "2019-05-01",
          "2019-06-01"
         ],
         "y": [
          "",
          513.179,
          1138.7450000000001,
          668.5675,
          547.4623333333334,
          707.0826356060605,
          720.8861213615022,
          647.5849617195769,
          650.8016881254177,
          646.4543705176856,
          659.3339138574601,
          657.4720477379079,
          645.8630779508438,
          653.5775849064461,
          656.3193300266679,
          647.8528980317392,
          657.7752849336008,
          648.2316595608346,
          646.4982607536493,
          641.9747836584777,
          654.8116717624303,
          655.8952427527461,
          650.8771554447886,
          640.1200237463295,
          651.4021435660175,
          ""
         ]
        }
       ],
       "layout": {
        "legend": {
         "bgcolor": "#F5F6F9",
         "font": {
          "color": "#4D5663"
         }
        },
        "paper_bgcolor": "#F5F6F9",
        "plot_bgcolor": "#F5F6F9",
        "title": {
         "font": {
          "color": "#4D5663"
         }
        },
        "xaxis": {
         "gridcolor": "#E1E5ED",
         "showgrid": true,
         "tickfont": {
          "color": "#4D5663"
         },
         "title": {
          "font": {
           "color": "#4D5663"
          },
          "text": ""
         },
         "zerolinecolor": "#E1E5ED"
        },
        "yaxis": {
         "gridcolor": "#E1E5ED",
         "showgrid": true,
         "tickfont": {
          "color": "#4D5663"
         },
         "title": {
          "font": {
           "color": "#4D5663"
          },
          "text": ""
         },
         "zerolinecolor": "#E1E5ED"
        }
       }
      },
      "text/html": [
       "<div>\n",
       "        \n",
       "        \n",
       "            <div id=\"9a77709a-8165-472f-b2b2-88460d1457e3\" class=\"plotly-graph-div\" style=\"height:525px; width:100%;\"></div>\n",
       "            <script type=\"text/javascript\">\n",
       "                require([\"plotly\"], function(Plotly) {\n",
       "                    window.PLOTLYENV=window.PLOTLYENV || {};\n",
       "                    window.PLOTLYENV.BASE_URL='https://plot.ly';\n",
       "                    \n",
       "                if (document.getElementById(\"9a77709a-8165-472f-b2b2-88460d1457e3\")) {\n",
       "                    Plotly.newPlot(\n",
       "                        '9a77709a-8165-472f-b2b2-88460d1457e3',\n",
       "                        [{\"line\": {\"color\": \"rgba(255, 153, 51, 1.0)\", \"dash\": \"solid\", \"shape\": \"linear\", \"width\": 1.3}, \"mode\": \"lines\", \"name\": \"no_call\", \"text\": \"\", \"type\": \"scatter\", \"uid\": \"8e7bdfc5-e3dc-40ab-8d7d-cd164ac278d1\", \"x\": [\"2017-05-01\", \"2017-06-01\", \"2017-07-01\", \"2017-08-01\", \"2017-09-01\", \"2017-10-01\", \"2017-11-01\", \"2017-12-01\", \"2018-01-01\", \"2018-02-01\", \"2018-03-01\", \"2018-04-01\", \"2018-05-01\", \"2018-06-01\", \"2018-07-01\", \"2018-08-01\", \"2018-09-01\", \"2018-10-01\", \"2018-11-01\", \"2018-12-01\", \"2019-01-01\", \"2019-02-01\", \"2019-03-01\", \"2019-04-01\", \"2019-05-01\", \"2019-06-01\"], \"y\": [\"\", 1013.642, \"\", 591.7094880952382, 616.3222499999999, 538.0893518518519, 652.1442078754579, 689.5507205002185, 653.2895677159464, 646.9234142269031, 653.9599470287848, 641.019072955259, 648.4516960496628, 651.5182268039291, 642.2254386242499, 643.0554884760196, 632.288877684651, 634.862822401857, 637.0494616642075, 646.2387709595001, 644.0537479051794, 629.4825914596233, 631.4595368102636, 630.1102437436092, 638.0365571894694, 631.5034074074073]}, {\"line\": {\"color\": \"rgba(55, 128, 191, 1.0)\", \"dash\": \"solid\", \"shape\": \"linear\", \"width\": 1.3}, \"mode\": \"lines\", \"name\": \"thank_you_call\", \"text\": \"\", \"type\": \"scatter\", \"uid\": \"b5fb01da-21be-4908-b8da-f3f580e8c2da\", \"x\": [\"2017-05-01\", \"2017-06-01\", \"2017-07-01\", \"2017-08-01\", \"2017-09-01\", \"2017-10-01\", \"2017-11-01\", \"2017-12-01\", \"2018-01-01\", \"2018-02-01\", \"2018-03-01\", \"2018-04-01\", \"2018-05-01\", \"2018-06-01\", \"2018-07-01\", \"2018-08-01\", \"2018-09-01\", \"2018-10-01\", \"2018-11-01\", \"2018-12-01\", \"2019-01-01\", \"2019-02-01\", \"2019-03-01\", \"2019-04-01\", \"2019-05-01\", \"2019-06-01\"], \"y\": [\"\", 513.179, 1138.7450000000001, 668.5675, 547.4623333333334, 707.0826356060605, 720.8861213615022, 647.5849617195769, 650.8016881254177, 646.4543705176856, 659.3339138574601, 657.4720477379079, 645.8630779508438, 653.5775849064461, 656.3193300266679, 647.8528980317392, 657.7752849336008, 648.2316595608346, 646.4982607536493, 641.9747836584777, 654.8116717624303, 655.8952427527461, 650.8771554447886, 640.1200237463295, 651.4021435660175, \"\"]}],\n",
       "                        {\"legend\": {\"bgcolor\": \"#F5F6F9\", \"font\": {\"color\": \"#4D5663\"}}, \"paper_bgcolor\": \"#F5F6F9\", \"plot_bgcolor\": \"#F5F6F9\", \"title\": {\"font\": {\"color\": \"#4D5663\"}}, \"xaxis\": {\"gridcolor\": \"#E1E5ED\", \"showgrid\": true, \"tickfont\": {\"color\": \"#4D5663\"}, \"title\": {\"font\": {\"color\": \"#4D5663\"}, \"text\": \"\"}, \"zerolinecolor\": \"#E1E5ED\"}, \"yaxis\": {\"gridcolor\": \"#E1E5ED\", \"showgrid\": true, \"tickfont\": {\"color\": \"#4D5663\"}, \"title\": {\"font\": {\"color\": \"#4D5663\"}, \"text\": \"\"}, \"zerolinecolor\": \"#E1E5ED\"}},\n",
       "                        {\"showLink\": true, \"linkText\": \"Export to plot.ly\", \"plotlyServerURL\": \"https://plot.ly\", \"responsive\": true}\n",
       "                    ).then(function(){\n",
       "                            \n",
       "var gd = document.getElementById('9a77709a-8165-472f-b2b2-88460d1457e3');\n",
       "var x = new MutationObserver(function (mutations, observer) {{\n",
       "        var display = window.getComputedStyle(gd).display;\n",
       "        if (!display || display === 'none') {{\n",
       "            console.log([gd, 'removed!']);\n",
       "            Plotly.purge(gd);\n",
       "            observer.disconnect();\n",
       "        }}\n",
       "}});\n",
       "\n",
       "// Listen for the removal of the full notebook cells\n",
       "var notebookContainer = gd.closest('#notebook-container');\n",
       "if (notebookContainer) {{\n",
       "    x.observe(notebookContainer, {childList: true});\n",
       "}}\n",
       "\n",
       "// Listen for the clearing of the current output cell\n",
       "var outputEl = gd.closest('.output');\n",
       "if (outputEl) {{\n",
       "    x.observe(outputEl, {childList: true});\n",
       "}}\n",
       "\n",
       "                        })\n",
       "                };\n",
       "                });\n",
       "            </script>\n",
       "        </div>"
      ]
     },
     "metadata": {},
     "output_type": "display_data"
    }
   ],
   "source": [
    "monthlyAvgGMVperBooking = df.pivot_table(values='Average_GMV_per_Booking',index='MONTH',columns='THANK_YOU_STATUS',aggfunc='mean')\n",
    "monthlyAvgGMVperBooking.iplot()"
   ]
  },
  {
   "cell_type": "markdown",
   "metadata": {},
   "source": [
    "Looking at this data, we can see that there is no significant change for customers whose first order was in June 2019. Thus, we can remove this set of data. However, for data before August 2017, we see a significant spike in July 2017 data. We cannot remove this data without being certain that it won't skew the results of our analysis."
   ]
  },
  {
   "cell_type": "code",
   "execution_count": 10,
   "metadata": {},
   "outputs": [
    {
     "data": {
      "application/vnd.plotly.v1+json": {
       "config": {
        "linkText": "Export to plot.ly",
        "plotlyServerURL": "https://plot.ly",
        "showLink": true
       },
       "data": [
        {
         "line": {
          "color": "rgba(255, 153, 51, 1.0)",
          "dash": "solid",
          "shape": "linear",
          "width": 1.3
         },
         "mode": "lines",
         "name": "no_call",
         "text": "",
         "type": "scatter",
         "uid": "c803a74c-d15f-4ed2-9ad4-f28893528246",
         "x": [
          "2017-05-01",
          "2017-06-01",
          "2017-07-01",
          "2017-08-01",
          "2017-09-01",
          "2017-10-01",
          "2017-11-01",
          "2017-12-01",
          "2018-01-01",
          "2018-02-01",
          "2018-03-01",
          "2018-04-01",
          "2018-05-01",
          "2018-06-01",
          "2018-07-01",
          "2018-08-01",
          "2018-09-01",
          "2018-10-01",
          "2018-11-01",
          "2018-12-01",
          "2019-01-01",
          "2019-02-01",
          "2019-03-01",
          "2019-04-01",
          "2019-05-01"
         ],
         "y": [
          2,
          1,
          "",
          8,
          4,
          11,
          61,
          124,
          404,
          509,
          659,
          524,
          529,
          1017,
          1159,
          1075,
          772,
          849,
          802,
          725,
          1373,
          1347,
          981,
          1302,
          1207
         ]
        },
        {
         "line": {
          "color": "rgba(55, 128, 191, 1.0)",
          "dash": "solid",
          "shape": "linear",
          "width": 1.3
         },
         "mode": "lines",
         "name": "thank_you_call",
         "text": "",
         "type": "scatter",
         "uid": "324f3cc4-8e0b-44d6-b9b7-1c088f77e10d",
         "x": [
          "2017-05-01",
          "2017-06-01",
          "2017-07-01",
          "2017-08-01",
          "2017-09-01",
          "2017-10-01",
          "2017-11-01",
          "2017-12-01",
          "2018-01-01",
          "2018-02-01",
          "2018-03-01",
          "2018-04-01",
          "2018-05-01",
          "2018-06-01",
          "2018-07-01",
          "2018-08-01",
          "2018-09-01",
          "2018-10-01",
          "2018-11-01",
          "2018-12-01",
          "2019-01-01",
          "2019-02-01",
          "2019-03-01",
          "2019-04-01",
          "2019-05-01"
         ],
         "y": [
          "",
          1,
          1,
          2,
          6,
          36,
          80,
          158,
          473,
          496,
          471,
          392,
          389,
          596,
          753,
          710,
          544,
          630,
          474,
          259,
          331,
          311,
          371,
          429,
          374
         ]
        }
       ],
       "layout": {
        "legend": {
         "bgcolor": "#F5F6F9",
         "font": {
          "color": "#4D5663"
         }
        },
        "paper_bgcolor": "#F5F6F9",
        "plot_bgcolor": "#F5F6F9",
        "title": {
         "font": {
          "color": "#4D5663"
         }
        },
        "xaxis": {
         "gridcolor": "#E1E5ED",
         "showgrid": true,
         "tickfont": {
          "color": "#4D5663"
         },
         "title": {
          "font": {
           "color": "#4D5663"
          },
          "text": ""
         },
         "zerolinecolor": "#E1E5ED"
        },
        "yaxis": {
         "gridcolor": "#E1E5ED",
         "showgrid": true,
         "tickfont": {
          "color": "#4D5663"
         },
         "title": {
          "font": {
           "color": "#4D5663"
          },
          "text": ""
         },
         "zerolinecolor": "#E1E5ED"
        }
       }
      },
      "text/html": [
       "<div>\n",
       "        \n",
       "        \n",
       "            <div id=\"024c9f66-0f0d-4b2c-81cb-caa65ee5f0c7\" class=\"plotly-graph-div\" style=\"height:525px; width:100%;\"></div>\n",
       "            <script type=\"text/javascript\">\n",
       "                require([\"plotly\"], function(Plotly) {\n",
       "                    window.PLOTLYENV=window.PLOTLYENV || {};\n",
       "                    window.PLOTLYENV.BASE_URL='https://plot.ly';\n",
       "                    \n",
       "                if (document.getElementById(\"024c9f66-0f0d-4b2c-81cb-caa65ee5f0c7\")) {\n",
       "                    Plotly.newPlot(\n",
       "                        '024c9f66-0f0d-4b2c-81cb-caa65ee5f0c7',\n",
       "                        [{\"line\": {\"color\": \"rgba(255, 153, 51, 1.0)\", \"dash\": \"solid\", \"shape\": \"linear\", \"width\": 1.3}, \"mode\": \"lines\", \"name\": \"no_call\", \"text\": \"\", \"type\": \"scatter\", \"uid\": \"c803a74c-d15f-4ed2-9ad4-f28893528246\", \"x\": [\"2017-05-01\", \"2017-06-01\", \"2017-07-01\", \"2017-08-01\", \"2017-09-01\", \"2017-10-01\", \"2017-11-01\", \"2017-12-01\", \"2018-01-01\", \"2018-02-01\", \"2018-03-01\", \"2018-04-01\", \"2018-05-01\", \"2018-06-01\", \"2018-07-01\", \"2018-08-01\", \"2018-09-01\", \"2018-10-01\", \"2018-11-01\", \"2018-12-01\", \"2019-01-01\", \"2019-02-01\", \"2019-03-01\", \"2019-04-01\", \"2019-05-01\"], \"y\": [2.0, 1.0, \"\", 8.0, 4.0, 11.0, 61.0, 124.0, 404.0, 509.0, 659.0, 524.0, 529.0, 1017.0, 1159.0, 1075.0, 772.0, 849.0, 802.0, 725.0, 1373.0, 1347.0, 981.0, 1302.0, 1207.0]}, {\"line\": {\"color\": \"rgba(55, 128, 191, 1.0)\", \"dash\": \"solid\", \"shape\": \"linear\", \"width\": 1.3}, \"mode\": \"lines\", \"name\": \"thank_you_call\", \"text\": \"\", \"type\": \"scatter\", \"uid\": \"324f3cc4-8e0b-44d6-b9b7-1c088f77e10d\", \"x\": [\"2017-05-01\", \"2017-06-01\", \"2017-07-01\", \"2017-08-01\", \"2017-09-01\", \"2017-10-01\", \"2017-11-01\", \"2017-12-01\", \"2018-01-01\", \"2018-02-01\", \"2018-03-01\", \"2018-04-01\", \"2018-05-01\", \"2018-06-01\", \"2018-07-01\", \"2018-08-01\", \"2018-09-01\", \"2018-10-01\", \"2018-11-01\", \"2018-12-01\", \"2019-01-01\", \"2019-02-01\", \"2019-03-01\", \"2019-04-01\", \"2019-05-01\"], \"y\": [\"\", 1.0, 1.0, 2.0, 6.0, 36.0, 80.0, 158.0, 473.0, 496.0, 471.0, 392.0, 389.0, 596.0, 753.0, 710.0, 544.0, 630.0, 474.0, 259.0, 331.0, 311.0, 371.0, 429.0, 374.0]}],\n",
       "                        {\"legend\": {\"bgcolor\": \"#F5F6F9\", \"font\": {\"color\": \"#4D5663\"}}, \"paper_bgcolor\": \"#F5F6F9\", \"plot_bgcolor\": \"#F5F6F9\", \"title\": {\"font\": {\"color\": \"#4D5663\"}}, \"xaxis\": {\"gridcolor\": \"#E1E5ED\", \"showgrid\": true, \"tickfont\": {\"color\": \"#4D5663\"}, \"title\": {\"font\": {\"color\": \"#4D5663\"}, \"text\": \"\"}, \"zerolinecolor\": \"#E1E5ED\"}, \"yaxis\": {\"gridcolor\": \"#E1E5ED\", \"showgrid\": true, \"tickfont\": {\"color\": \"#4D5663\"}, \"title\": {\"font\": {\"color\": \"#4D5663\"}, \"text\": \"\"}, \"zerolinecolor\": \"#E1E5ED\"}},\n",
       "                        {\"showLink\": true, \"linkText\": \"Export to plot.ly\", \"plotlyServerURL\": \"https://plot.ly\", \"responsive\": true}\n",
       "                    ).then(function(){\n",
       "                            \n",
       "var gd = document.getElementById('024c9f66-0f0d-4b2c-81cb-caa65ee5f0c7');\n",
       "var x = new MutationObserver(function (mutations, observer) {{\n",
       "        var display = window.getComputedStyle(gd).display;\n",
       "        if (!display || display === 'none') {{\n",
       "            console.log([gd, 'removed!']);\n",
       "            Plotly.purge(gd);\n",
       "            observer.disconnect();\n",
       "        }}\n",
       "}});\n",
       "\n",
       "// Listen for the removal of the full notebook cells\n",
       "var notebookContainer = gd.closest('#notebook-container');\n",
       "if (notebookContainer) {{\n",
       "    x.observe(notebookContainer, {childList: true});\n",
       "}}\n",
       "\n",
       "// Listen for the clearing of the current output cell\n",
       "var outputEl = gd.closest('.output');\n",
       "if (outputEl) {{\n",
       "    x.observe(outputEl, {childList: true});\n",
       "}}\n",
       "\n",
       "                        })\n",
       "                };\n",
       "                });\n",
       "            </script>\n",
       "        </div>"
      ]
     },
     "metadata": {},
     "output_type": "display_data"
    }
   ],
   "source": [
    "df = df[df['MONTH']<'2019-06-01']\n",
    "monthlyThankYouStatus = df.pivot_table(values='USER_ID',index='MONTH',columns='THANK_YOU_STATUS',aggfunc='count')\n",
    "monthlyThankYouStatus.iplot()\n",
    "\n",
    "# That looks better"
   ]
  },
  {
   "cell_type": "markdown",
   "metadata": {},
   "source": [
    "I will then take a look at the scatterplot of GMV versus Number of Bookings. This should help us identify any outliers."
   ]
  },
  {
   "cell_type": "code",
   "execution_count": 11,
   "metadata": {},
   "outputs": [
    {
     "data": {
      "text/plain": [
       "<seaborn.axisgrid.JointGrid at 0x1c216724a8>"
      ]
     },
     "execution_count": 11,
     "metadata": {},
     "output_type": "execute_result"
    },
    {
     "data": {
      "image/png": "[encoded data removed]",
      "text/plain": [
       "<Figure size 432x432 with 3 Axes>"
      ]
     },
     "metadata": {},
     "output_type": "display_data"
    }
   ],
   "source": [
    "sns.jointplot(data=df,x='BOOKINGS',y='GMV')"
   ]
  },
  {
   "cell_type": "markdown",
   "metadata": {},
   "source": [
    "We can see that there are two types of outliers that stick out:\n",
    "\n",
    "1) Customers with a large amount of bookings, but low GMV\n",
    "\n",
    "2) Customers with an average amount of bookings, but erroneously high GMV\n",
    "\n",
    "In order to alleviate our dataset of these outliers, we can take the Z-Score of the Average GMV per Booking. The use of Z-Scores does not assume the data is normally distributed, as it is most definitely not. It assumes the data follows the Central Limit Theorem since there are over 23000 rows of data.\n",
    "\n",
    "I like to identify outliers as data entries with a Z-Score larger than 3."
   ]
  },
  {
   "cell_type": "code",
   "execution_count": 12,
   "metadata": {},
   "outputs": [
    {
     "data": {
      "text/html": [
       "<div>\n",
       "<style scoped>\n",
       "    .dataframe tbody tr th:only-of-type {\n",
       "        vertical-align: middle;\n",
       "    }\n",
       "\n",
       "    .dataframe tbody tr th {\n",
       "        vertical-align: top;\n",
       "    }\n",
       "\n",
       "    .dataframe thead th {\n",
       "        text-align: right;\n",
       "    }\n",
       "</style>\n",
       "<table border=\"1\" class=\"dataframe\">\n",
       "  <thead>\n",
       "    <tr style=\"text-align: right;\">\n",
       "      <th></th>\n",
       "      <th>USER_ID</th>\n",
       "      <th>MONTH</th>\n",
       "      <th>THANK_YOU_STATUS</th>\n",
       "      <th>LTR</th>\n",
       "      <th>BOOKINGS</th>\n",
       "      <th>GMV</th>\n",
       "      <th>Average_GMV_per_Booking</th>\n",
       "      <th>Z-Score_AverageGMV</th>\n",
       "    </tr>\n",
       "  </thead>\n",
       "  <tbody>\n",
       "    <tr>\n",
       "      <th>0</th>\n",
       "      <td>10157</td>\n",
       "      <td>2018-09-01</td>\n",
       "      <td>thank_you_call</td>\n",
       "      <td>106.640369</td>\n",
       "      <td>6.0</td>\n",
       "      <td>4926.957</td>\n",
       "      <td>821.159500</td>\n",
       "      <td>0.904472</td>\n",
       "    </tr>\n",
       "    <tr>\n",
       "      <th>1</th>\n",
       "      <td>10263</td>\n",
       "      <td>2018-03-01</td>\n",
       "      <td>thank_you_call</td>\n",
       "      <td>388.322847</td>\n",
       "      <td>25.0</td>\n",
       "      <td>18481.635</td>\n",
       "      <td>739.265400</td>\n",
       "      <td>0.485768</td>\n",
       "    </tr>\n",
       "    <tr>\n",
       "      <th>2</th>\n",
       "      <td>10362</td>\n",
       "      <td>2018-01-01</td>\n",
       "      <td>thank_you_call</td>\n",
       "      <td>588.327102</td>\n",
       "      <td>15.0</td>\n",
       "      <td>7010.647</td>\n",
       "      <td>467.376467</td>\n",
       "      <td>0.904333</td>\n",
       "    </tr>\n",
       "    <tr>\n",
       "      <th>3</th>\n",
       "      <td>10382</td>\n",
       "      <td>2018-11-01</td>\n",
       "      <td>thank_you_call</td>\n",
       "      <td>6.402000</td>\n",
       "      <td>2.0</td>\n",
       "      <td>1144.032</td>\n",
       "      <td>572.016000</td>\n",
       "      <td>0.369337</td>\n",
       "    </tr>\n",
       "    <tr>\n",
       "      <th>4</th>\n",
       "      <td>10463</td>\n",
       "      <td>2019-01-01</td>\n",
       "      <td>no_call</td>\n",
       "      <td>51.815610</td>\n",
       "      <td>3.0</td>\n",
       "      <td>1271.090</td>\n",
       "      <td>423.696667</td>\n",
       "      <td>1.127657</td>\n",
       "    </tr>\n",
       "  </tbody>\n",
       "</table>\n",
       "</div>"
      ],
      "text/plain": [
       "   USER_ID       MONTH THANK_YOU_STATUS         LTR  BOOKINGS        GMV  \\\n",
       "0    10157  2018-09-01   thank_you_call  106.640369       6.0   4926.957   \n",
       "1    10263  2018-03-01   thank_you_call  388.322847      25.0  18481.635   \n",
       "2    10362  2018-01-01   thank_you_call  588.327102      15.0   7010.647   \n",
       "3    10382  2018-11-01   thank_you_call    6.402000       2.0   1144.032   \n",
       "4    10463  2019-01-01          no_call   51.815610       3.0   1271.090   \n",
       "\n",
       "   Average_GMV_per_Booking  Z-Score_AverageGMV  \n",
       "0               821.159500            0.904472  \n",
       "1               739.265400            0.485768  \n",
       "2               467.376467            0.904333  \n",
       "3               572.016000            0.369337  \n",
       "4               423.696667            1.127657  "
      ]
     },
     "execution_count": 12,
     "metadata": {},
     "output_type": "execute_result"
    }
   ],
   "source": [
    "# I will create a new DataFrame, dfRemoved, in order to later compare results with the original dataset.\n",
    "# Calculating Z-Scores\n",
    "dfRemoved = df\n",
    "dfRemoved['Z-Score_AverageGMV'] = abs((dfRemoved['Average_GMV_per_Booking'] - dfRemoved['Average_GMV_per_Booking'].mean())/dfRemoved['Average_GMV_per_Booking'].std(ddof=0))\n",
    "dfRemoved.head()"
   ]
  },
  {
   "cell_type": "code",
   "execution_count": 13,
   "metadata": {},
   "outputs": [
    {
     "data": {
      "text/plain": [
       "no_call           204\n",
       "thank_you_call    119\n",
       "Name: THANK_YOU_STATUS, dtype: int64"
      ]
     },
     "execution_count": 13,
     "metadata": {},
     "output_type": "execute_result"
    }
   ],
   "source": [
    "# Check how many of the outliers belong to each cohort\n",
    "\n",
    "threshold = dfRemoved['Z-Score_AverageGMV'] > 3\n",
    "dfRemoved[threshold]['THANK_YOU_STATUS'].value_counts()\n",
    "\n",
    "# A total of 323 rows are being removed from the dataset"
   ]
  },
  {
   "cell_type": "code",
   "execution_count": 14,
   "metadata": {},
   "outputs": [
    {
     "data": {
      "text/html": [
       "<div>\n",
       "<style scoped>\n",
       "    .dataframe tbody tr th:only-of-type {\n",
       "        vertical-align: middle;\n",
       "    }\n",
       "\n",
       "    .dataframe tbody tr th {\n",
       "        vertical-align: top;\n",
       "    }\n",
       "\n",
       "    .dataframe thead th {\n",
       "        text-align: right;\n",
       "    }\n",
       "</style>\n",
       "<table border=\"1\" class=\"dataframe\">\n",
       "  <thead>\n",
       "    <tr style=\"text-align: right;\">\n",
       "      <th></th>\n",
       "      <th>USER_ID</th>\n",
       "      <th>MONTH</th>\n",
       "      <th>THANK_YOU_STATUS</th>\n",
       "      <th>LTR</th>\n",
       "      <th>BOOKINGS</th>\n",
       "      <th>GMV</th>\n",
       "      <th>Average_GMV_per_Booking</th>\n",
       "      <th>Z-Score_AverageGMV</th>\n",
       "    </tr>\n",
       "  </thead>\n",
       "  <tbody>\n",
       "    <tr>\n",
       "      <th>0</th>\n",
       "      <td>10157</td>\n",
       "      <td>2018-09-01</td>\n",
       "      <td>thank_you_call</td>\n",
       "      <td>106.640369</td>\n",
       "      <td>6.0</td>\n",
       "      <td>4926.957</td>\n",
       "      <td>821.159500</td>\n",
       "      <td>0.904472</td>\n",
       "    </tr>\n",
       "    <tr>\n",
       "      <th>1</th>\n",
       "      <td>10263</td>\n",
       "      <td>2018-03-01</td>\n",
       "      <td>thank_you_call</td>\n",
       "      <td>388.322847</td>\n",
       "      <td>25.0</td>\n",
       "      <td>18481.635</td>\n",
       "      <td>739.265400</td>\n",
       "      <td>0.485768</td>\n",
       "    </tr>\n",
       "    <tr>\n",
       "      <th>2</th>\n",
       "      <td>10362</td>\n",
       "      <td>2018-01-01</td>\n",
       "      <td>thank_you_call</td>\n",
       "      <td>588.327102</td>\n",
       "      <td>15.0</td>\n",
       "      <td>7010.647</td>\n",
       "      <td>467.376467</td>\n",
       "      <td>0.904333</td>\n",
       "    </tr>\n",
       "    <tr>\n",
       "      <th>3</th>\n",
       "      <td>10382</td>\n",
       "      <td>2018-11-01</td>\n",
       "      <td>thank_you_call</td>\n",
       "      <td>6.402000</td>\n",
       "      <td>2.0</td>\n",
       "      <td>1144.032</td>\n",
       "      <td>572.016000</td>\n",
       "      <td>0.369337</td>\n",
       "    </tr>\n",
       "    <tr>\n",
       "      <th>4</th>\n",
       "      <td>10463</td>\n",
       "      <td>2019-01-01</td>\n",
       "      <td>no_call</td>\n",
       "      <td>51.815610</td>\n",
       "      <td>3.0</td>\n",
       "      <td>1271.090</td>\n",
       "      <td>423.696667</td>\n",
       "      <td>1.127657</td>\n",
       "    </tr>\n",
       "  </tbody>\n",
       "</table>\n",
       "</div>"
      ],
      "text/plain": [
       "   USER_ID       MONTH THANK_YOU_STATUS         LTR  BOOKINGS        GMV  \\\n",
       "0    10157  2018-09-01   thank_you_call  106.640369       6.0   4926.957   \n",
       "1    10263  2018-03-01   thank_you_call  388.322847      25.0  18481.635   \n",
       "2    10362  2018-01-01   thank_you_call  588.327102      15.0   7010.647   \n",
       "3    10382  2018-11-01   thank_you_call    6.402000       2.0   1144.032   \n",
       "4    10463  2019-01-01          no_call   51.815610       3.0   1271.090   \n",
       "\n",
       "   Average_GMV_per_Booking  Z-Score_AverageGMV  \n",
       "0               821.159500            0.904472  \n",
       "1               739.265400            0.485768  \n",
       "2               467.376467            0.904333  \n",
       "3               572.016000            0.369337  \n",
       "4               423.696667            1.127657  "
      ]
     },
     "execution_count": 14,
     "metadata": {},
     "output_type": "execute_result"
    }
   ],
   "source": [
    "# Remove outliers from the dataset\n",
    "\n",
    "dfRemoved = dfRemoved[dfRemoved['Z-Score_AverageGMV'] <= 3]\n",
    "dfRemoved.head()"
   ]
  },
  {
   "cell_type": "code",
   "execution_count": 15,
   "metadata": {},
   "outputs": [
    {
     "data": {
      "text/plain": [
       "<seaborn.axisgrid.JointGrid at 0x1192765c0>"
      ]
     },
     "execution_count": 15,
     "metadata": {},
     "output_type": "execute_result"
    },
    {
     "data": {
      "image/png": "[encoded data removed]",
      "text/plain": [
       "<Figure size 432x432 with 3 Axes>"
      ]
     },
     "metadata": {},
     "output_type": "display_data"
    }
   ],
   "source": [
    "# Now we can take a look at the scatter plot once again\n",
    "\n",
    "sns.jointplot(data=dfRemoved,x='BOOKINGS',y='GMV')\n",
    "\n",
    "# That looks much better! "
   ]
  },
  {
   "cell_type": "code",
   "execution_count": 16,
   "metadata": {},
   "outputs": [
    {
     "data": {
      "application/vnd.plotly.v1+json": {
       "config": {
        "linkText": "Export to plot.ly",
        "plotlyServerURL": "https://plot.ly",
        "showLink": true
       },
       "data": [
        {
         "line": {
          "color": "rgba(255, 153, 51, 1.0)",
          "dash": "solid",
          "shape": "linear",
          "width": 1.3
         },
         "mode": "lines",
         "name": "no_call",
         "text": "",
         "type": "scatter",
         "uid": "dedde564-9590-41f7-a125-ea10b0adf6dc",
         "x": [
          "2017-06-01",
          "2017-07-01",
          "2017-08-01",
          "2017-09-01",
          "2017-10-01",
          "2017-11-01",
          "2017-12-01",
          "2018-01-01",
          "2018-02-01",
          "2018-03-01",
          "2018-04-01",
          "2018-05-01",
          "2018-06-01",
          "2018-07-01",
          "2018-08-01",
          "2018-09-01",
          "2018-10-01",
          "2018-11-01",
          "2018-12-01",
          "2019-01-01",
          "2019-02-01",
          "2019-03-01",
          "2019-04-01",
          "2019-05-01"
         ],
         "y": [
          1013.642,
          "",
          591.7094880952382,
          616.3222499999999,
          538.0893518518519,
          634.5025158730159,
          644.1669385332436,
          632.6792344329024,
          636.7214528685871,
          641.7200234209794,
          625.6233503659782,
          634.3055325610904,
          633.4165366465894,
          626.9224393144907,
          628.8373072896703,
          618.3406948278844,
          624.8833389841556,
          621.1249130081308,
          620.4949805299423,
          623.953421671565,
          622.6408696775673,
          620.1600497100037,
          621.6951711741588,
          626.7238232668061
         ]
        },
        {
         "line": {
          "color": "rgba(55, 128, 191, 1.0)",
          "dash": "solid",
          "shape": "linear",
          "width": 1.3
         },
         "mode": "lines",
         "name": "thank_you_call",
         "text": "",
         "type": "scatter",
         "uid": "d88e683f-22c3-46c4-a188-2d51ffa862c7",
         "x": [
          "2017-06-01",
          "2017-07-01",
          "2017-08-01",
          "2017-09-01",
          "2017-10-01",
          "2017-11-01",
          "2017-12-01",
          "2018-01-01",
          "2018-02-01",
          "2018-03-01",
          "2018-04-01",
          "2018-05-01",
          "2018-06-01",
          "2018-07-01",
          "2018-08-01",
          "2018-09-01",
          "2018-10-01",
          "2018-11-01",
          "2018-12-01",
          "2019-01-01",
          "2019-02-01",
          "2019-03-01",
          "2019-04-01",
          "2019-05-01"
         ],
         "y": [
          513.179,
          1138.7450000000001,
          668.5675,
          547.4623333333334,
          677.2655713166145,
          648.7159474747474,
          647.5849617195769,
          641.6622069337285,
          623.1560637434914,
          632.3609235056947,
          643.9935896736536,
          635.4330560542501,
          638.0487494107344,
          638.4384951641658,
          640.1155785967926,
          642.858978428718,
          634.0888868301084,
          627.5531896714624,
          628.7881224863901,
          628.4810367851453,
          641.4201084016311,
          631.5341017715418,
          634.5738199365082,
          630.4217601277824
         ]
        }
       ],
       "layout": {
        "legend": {
         "bgcolor": "#F5F6F9",
         "font": {
          "color": "#4D5663"
         }
        },
        "paper_bgcolor": "#F5F6F9",
        "plot_bgcolor": "#F5F6F9",
        "title": {
         "font": {
          "color": "#4D5663"
         }
        },
        "xaxis": {
         "gridcolor": "#E1E5ED",
         "showgrid": true,
         "tickfont": {
          "color": "#4D5663"
         },
         "title": {
          "font": {
           "color": "#4D5663"
          },
          "text": ""
         },
         "zerolinecolor": "#E1E5ED"
        },
        "yaxis": {
         "gridcolor": "#E1E5ED",
         "showgrid": true,
         "tickfont": {
          "color": "#4D5663"
         },
         "title": {
          "font": {
           "color": "#4D5663"
          },
          "text": ""
         },
         "zerolinecolor": "#E1E5ED"
        }
       }
      },
      "text/html": [
       "<div>\n",
       "        \n",
       "        \n",
       "            <div id=\"e31670b3-7c97-45c4-b671-0a5355302a72\" class=\"plotly-graph-div\" style=\"height:525px; width:100%;\"></div>\n",
       "            <script type=\"text/javascript\">\n",
       "                require([\"plotly\"], function(Plotly) {\n",
       "                    window.PLOTLYENV=window.PLOTLYENV || {};\n",
       "                    window.PLOTLYENV.BASE_URL='https://plot.ly';\n",
       "                    \n",
       "                if (document.getElementById(\"e31670b3-7c97-45c4-b671-0a5355302a72\")) {\n",
       "                    Plotly.newPlot(\n",
       "                        'e31670b3-7c97-45c4-b671-0a5355302a72',\n",
       "                        [{\"line\": {\"color\": \"rgba(255, 153, 51, 1.0)\", \"dash\": \"solid\", \"shape\": \"linear\", \"width\": 1.3}, \"mode\": \"lines\", \"name\": \"no_call\", \"text\": \"\", \"type\": \"scatter\", \"uid\": \"dedde564-9590-41f7-a125-ea10b0adf6dc\", \"x\": [\"2017-06-01\", \"2017-07-01\", \"2017-08-01\", \"2017-09-01\", \"2017-10-01\", \"2017-11-01\", \"2017-12-01\", \"2018-01-01\", \"2018-02-01\", \"2018-03-01\", \"2018-04-01\", \"2018-05-01\", \"2018-06-01\", \"2018-07-01\", \"2018-08-01\", \"2018-09-01\", \"2018-10-01\", \"2018-11-01\", \"2018-12-01\", \"2019-01-01\", \"2019-02-01\", \"2019-03-01\", \"2019-04-01\", \"2019-05-01\"], \"y\": [1013.642, \"\", 591.7094880952382, 616.3222499999999, 538.0893518518519, 634.5025158730159, 644.1669385332436, 632.6792344329024, 636.7214528685871, 641.7200234209794, 625.6233503659782, 634.3055325610904, 633.4165366465894, 626.9224393144907, 628.8373072896703, 618.3406948278844, 624.8833389841556, 621.1249130081308, 620.4949805299423, 623.953421671565, 622.6408696775673, 620.1600497100037, 621.6951711741588, 626.7238232668061]}, {\"line\": {\"color\": \"rgba(55, 128, 191, 1.0)\", \"dash\": \"solid\", \"shape\": \"linear\", \"width\": 1.3}, \"mode\": \"lines\", \"name\": \"thank_you_call\", \"text\": \"\", \"type\": \"scatter\", \"uid\": \"d88e683f-22c3-46c4-a188-2d51ffa862c7\", \"x\": [\"2017-06-01\", \"2017-07-01\", \"2017-08-01\", \"2017-09-01\", \"2017-10-01\", \"2017-11-01\", \"2017-12-01\", \"2018-01-01\", \"2018-02-01\", \"2018-03-01\", \"2018-04-01\", \"2018-05-01\", \"2018-06-01\", \"2018-07-01\", \"2018-08-01\", \"2018-09-01\", \"2018-10-01\", \"2018-11-01\", \"2018-12-01\", \"2019-01-01\", \"2019-02-01\", \"2019-03-01\", \"2019-04-01\", \"2019-05-01\"], \"y\": [513.179, 1138.7450000000001, 668.5675, 547.4623333333334, 677.2655713166145, 648.7159474747474, 647.5849617195769, 641.6622069337285, 623.1560637434914, 632.3609235056947, 643.9935896736536, 635.4330560542501, 638.0487494107344, 638.4384951641658, 640.1155785967926, 642.858978428718, 634.0888868301084, 627.5531896714624, 628.7881224863901, 628.4810367851453, 641.4201084016311, 631.5341017715418, 634.5738199365082, 630.4217601277824]}],\n",
       "                        {\"legend\": {\"bgcolor\": \"#F5F6F9\", \"font\": {\"color\": \"#4D5663\"}}, \"paper_bgcolor\": \"#F5F6F9\", \"plot_bgcolor\": \"#F5F6F9\", \"title\": {\"font\": {\"color\": \"#4D5663\"}}, \"xaxis\": {\"gridcolor\": \"#E1E5ED\", \"showgrid\": true, \"tickfont\": {\"color\": \"#4D5663\"}, \"title\": {\"font\": {\"color\": \"#4D5663\"}, \"text\": \"\"}, \"zerolinecolor\": \"#E1E5ED\"}, \"yaxis\": {\"gridcolor\": \"#E1E5ED\", \"showgrid\": true, \"tickfont\": {\"color\": \"#4D5663\"}, \"title\": {\"font\": {\"color\": \"#4D5663\"}, \"text\": \"\"}, \"zerolinecolor\": \"#E1E5ED\"}},\n",
       "                        {\"showLink\": true, \"linkText\": \"Export to plot.ly\", \"plotlyServerURL\": \"https://plot.ly\", \"responsive\": true}\n",
       "                    ).then(function(){\n",
       "                            \n",
       "var gd = document.getElementById('e31670b3-7c97-45c4-b671-0a5355302a72');\n",
       "var x = new MutationObserver(function (mutations, observer) {{\n",
       "        var display = window.getComputedStyle(gd).display;\n",
       "        if (!display || display === 'none') {{\n",
       "            console.log([gd, 'removed!']);\n",
       "            Plotly.purge(gd);\n",
       "            observer.disconnect();\n",
       "        }}\n",
       "}});\n",
       "\n",
       "// Listen for the removal of the full notebook cells\n",
       "var notebookContainer = gd.closest('#notebook-container');\n",
       "if (notebookContainer) {{\n",
       "    x.observe(notebookContainer, {childList: true});\n",
       "}}\n",
       "\n",
       "// Listen for the clearing of the current output cell\n",
       "var outputEl = gd.closest('.output');\n",
       "if (outputEl) {{\n",
       "    x.observe(outputEl, {childList: true});\n",
       "}}\n",
       "\n",
       "                        })\n",
       "                };\n",
       "                });\n",
       "            </script>\n",
       "        </div>"
      ]
     },
     "metadata": {},
     "output_type": "display_data"
    }
   ],
   "source": [
    "monthlyAvgGMVperBookingRemoved = dfRemoved.pivot_table(values='Average_GMV_per_Booking',index='MONTH',columns='THANK_YOU_STATUS',aggfunc='mean')\n",
    "monthlyAvgGMVperBookingRemoved.iplot()\n",
    "\n",
    "# We can see that the June 2017 numbers were not removed, despite a large spike. \n",
    "# We will not be removing this data, as aforementioned, especially since it wasn't deemed to be an outlier.\n",
    "\n",
    "# If more context was available on this data, we may have potentially been able to remove it.\n",
    "# However, given the data available, we cannot do so."
   ]
  },
  {
   "cell_type": "markdown",
   "metadata": {},
   "source": [
    "When checking the info() of the DataFrame, we could see a discrepancy between the number of entries in the USER_ID column, and the LTR, BOOKINGS, and GMV columns. This indicates NaN data. I assume that this data belongs to customers that had booked a total of twice, but had cancelled the second booking before it was redeemed. In order to deal with these NaN values, I will first need to remove any outliers.\n",
    "\n",
    "For this reason, I will be setting the values to the following:\n",
    "\n",
    "- BOOKINGS: Set = 1, since these customers booked twice, but only redeemed one booking. I will assume that any cancelled bookings are not included within this dataset. i.e. Refunds have been accounted for.\n",
    "\n",
    "- LTR and GMV: Set = the *mode* of average LTR/GMV among customers with 1 Booking within our dataset. We cannot assume that there are behaviour differences between customers who received a call and those that did not, since these customers technically only had one redeemed purchase. The call may influence their post-purchase behaviour, but definitely not their first purchase. Thus, I will not be differentiating between the different cohorts.\n",
    "\n",
    "**Note: I prefered using the mode over other metrics in this case. I assumed that, as with most thing sold online, there would be a first time promo with a capped maximum price. Most consumers would probably attempt to use this promo for the most value for their money. I assumed that's what most consumers did, hence why the mode.**\n",
    "\n",
    "**Note #2: I decided to use only customers with 1 Booking, rather than all customers within our dataset. I assumed the first booking of a customer would be most similar to the first bookings of other customers.**"
   ]
  },
  {
   "cell_type": "code",
   "execution_count": 17,
   "metadata": {},
   "outputs": [
    {
     "data": {
      "text/plain": [
       "0    525.096\n",
       "dtype: float64"
      ]
     },
     "execution_count": 17,
     "metadata": {},
     "output_type": "execute_result"
    }
   ],
   "source": [
    "# Mode GMV of Customers with only one booking\n",
    "\n",
    "dfRemoved[dfRemoved['BOOKINGS']==1]['GMV'].mode()"
   ]
  },
  {
   "cell_type": "code",
   "execution_count": 18,
   "metadata": {},
   "outputs": [
    {
     "data": {
      "text/plain": [
       "0    45.716\n",
       "1    46.684\n",
       "2    50.710\n",
       "dtype: float64"
      ]
     },
     "execution_count": 18,
     "metadata": {},
     "output_type": "execute_result"
    }
   ],
   "source": [
    "# Mode of LTR of Customers with only one booking\n",
    "\n",
    "dfRemoved[dfRemoved['BOOKINGS']==1]['LTR'].mode()\n",
    "\n",
    "# We can see that we get three modes here. We can take the mean of these modes for the desired outcome."
   ]
  },
  {
   "cell_type": "code",
   "execution_count": 19,
   "metadata": {},
   "outputs": [
    {
     "data": {
      "text/plain": [
       "47.70333333333334"
      ]
     },
     "execution_count": 19,
     "metadata": {},
     "output_type": "execute_result"
    }
   ],
   "source": [
    "dfRemoved[dfRemoved['BOOKINGS']==1]['LTR'].mode().mean()"
   ]
  },
  {
   "cell_type": "code",
   "execution_count": 20,
   "metadata": {},
   "outputs": [
    {
     "data": {
      "text/plain": [
       "<matplotlib.axes._subplots.AxesSubplot at 0x1a1d9cf198>"
      ]
     },
     "execution_count": 20,
     "metadata": {},
     "output_type": "execute_result"
    },
    {
     "data": {
      "image/png": "[encoded data removed]",
      "text/plain": [
       "<Figure size 432x288 with 1 Axes>"
      ]
     },
     "metadata": {},
     "output_type": "display_data"
    }
   ],
   "source": [
    "sns.distplot(dfRemoved[dfRemoved['BOOKINGS']==1]['Average_GMV_per_Booking'])"
   ]
  },
  {
   "cell_type": "markdown",
   "metadata": {},
   "source": [
    "Now, let's deal with those NaN values"
   ]
  },
  {
   "cell_type": "code",
   "execution_count": 21,
   "metadata": {},
   "outputs": [],
   "source": [
    "# Filling missing BOOKINGS data\n",
    "\n",
    "dfRemoved['BOOKINGS'].fillna(value=1,inplace=True)"
   ]
  },
  {
   "cell_type": "code",
   "execution_count": 22,
   "metadata": {},
   "outputs": [],
   "source": [
    "# Filling missing GMV data\n",
    "\n",
    "dfRemoved['GMV'].fillna(dfRemoved[dfRemoved['BOOKINGS']==1]['GMV'].mode(),inplace=True)"
   ]
  },
  {
   "cell_type": "code",
   "execution_count": 23,
   "metadata": {},
   "outputs": [],
   "source": [
    "# Filling missing LTR data\n",
    "\n",
    "dfRemoved['LTR'].fillna(dfRemoved[dfRemoved['BOOKINGS']==1]['LTR'].mode().mean(),inplace=True)"
   ]
  },
  {
   "cell_type": "code",
   "execution_count": 24,
   "metadata": {},
   "outputs": [
    {
     "data": {
      "text/plain": [
       "USER_ID                    0\n",
       "MONTH                      0\n",
       "THANK_YOU_STATUS           0\n",
       "LTR                        0\n",
       "BOOKINGS                   0\n",
       "GMV                        0\n",
       "Average_GMV_per_Booking    0\n",
       "Z-Score_AverageGMV         0\n",
       "dtype: int64"
      ]
     },
     "execution_count": 24,
     "metadata": {},
     "output_type": "execute_result"
    }
   ],
   "source": [
    "# Let's check to see if there's any more data that's missing\n",
    "\n",
    "dfRemoved.isna().sum()\n",
    "\n",
    "# Nope! Our code worked perfectly fine."
   ]
  },
  {
   "cell_type": "code",
   "execution_count": 25,
   "metadata": {},
   "outputs": [
    {
     "data": {
      "text/html": [
       "<div>\n",
       "<style scoped>\n",
       "    .dataframe tbody tr th:only-of-type {\n",
       "        vertical-align: middle;\n",
       "    }\n",
       "\n",
       "    .dataframe tbody tr th {\n",
       "        vertical-align: top;\n",
       "    }\n",
       "\n",
       "    .dataframe thead th {\n",
       "        text-align: right;\n",
       "    }\n",
       "</style>\n",
       "<table border=\"1\" class=\"dataframe\">\n",
       "  <thead>\n",
       "    <tr style=\"text-align: right;\">\n",
       "      <th></th>\n",
       "      <th>USER_ID</th>\n",
       "      <th>MONTH</th>\n",
       "      <th>THANK_YOU_STATUS</th>\n",
       "      <th>LTR</th>\n",
       "      <th>BOOKINGS</th>\n",
       "      <th>GMV</th>\n",
       "      <th>Average_GMV_per_Booking</th>\n",
       "    </tr>\n",
       "  </thead>\n",
       "  <tbody>\n",
       "    <tr>\n",
       "      <th>0</th>\n",
       "      <td>10157</td>\n",
       "      <td>2018-09-01</td>\n",
       "      <td>thank_you_call</td>\n",
       "      <td>106.640369</td>\n",
       "      <td>6.0</td>\n",
       "      <td>4926.957</td>\n",
       "      <td>821.159500</td>\n",
       "    </tr>\n",
       "    <tr>\n",
       "      <th>1</th>\n",
       "      <td>10263</td>\n",
       "      <td>2018-03-01</td>\n",
       "      <td>thank_you_call</td>\n",
       "      <td>388.322847</td>\n",
       "      <td>25.0</td>\n",
       "      <td>18481.635</td>\n",
       "      <td>739.265400</td>\n",
       "    </tr>\n",
       "    <tr>\n",
       "      <th>2</th>\n",
       "      <td>10362</td>\n",
       "      <td>2018-01-01</td>\n",
       "      <td>thank_you_call</td>\n",
       "      <td>588.327102</td>\n",
       "      <td>15.0</td>\n",
       "      <td>7010.647</td>\n",
       "      <td>467.376467</td>\n",
       "    </tr>\n",
       "    <tr>\n",
       "      <th>3</th>\n",
       "      <td>10382</td>\n",
       "      <td>2018-11-01</td>\n",
       "      <td>thank_you_call</td>\n",
       "      <td>6.402000</td>\n",
       "      <td>2.0</td>\n",
       "      <td>1144.032</td>\n",
       "      <td>572.016000</td>\n",
       "    </tr>\n",
       "    <tr>\n",
       "      <th>4</th>\n",
       "      <td>10463</td>\n",
       "      <td>2019-01-01</td>\n",
       "      <td>no_call</td>\n",
       "      <td>51.815610</td>\n",
       "      <td>3.0</td>\n",
       "      <td>1271.090</td>\n",
       "      <td>423.696667</td>\n",
       "    </tr>\n",
       "  </tbody>\n",
       "</table>\n",
       "</div>"
      ],
      "text/plain": [
       "   USER_ID       MONTH THANK_YOU_STATUS         LTR  BOOKINGS        GMV  \\\n",
       "0    10157  2018-09-01   thank_you_call  106.640369       6.0   4926.957   \n",
       "1    10263  2018-03-01   thank_you_call  388.322847      25.0  18481.635   \n",
       "2    10362  2018-01-01   thank_you_call  588.327102      15.0   7010.647   \n",
       "3    10382  2018-11-01   thank_you_call    6.402000       2.0   1144.032   \n",
       "4    10463  2019-01-01          no_call   51.815610       3.0   1271.090   \n",
       "\n",
       "   Average_GMV_per_Booking  \n",
       "0               821.159500  \n",
       "1               739.265400  \n",
       "2               467.376467  \n",
       "3               572.016000  \n",
       "4               423.696667  "
      ]
     },
     "execution_count": 25,
     "metadata": {},
     "output_type": "execute_result"
    }
   ],
   "source": [
    "# Fix up Average_GMV_per_Booking since we don't have any NaN values anymore\n",
    "\n",
    "dfRemoved['Average_GMV_per_Booking'] = df['GMV']/df['BOOKINGS']\n",
    "dfRemoved.drop('Z-Score_AverageGMV',axis=1,inplace=True) # we don't need this column anymore\n",
    "\n",
    "dfRemoved.head()"
   ]
  },
  {
   "cell_type": "code",
   "execution_count": 26,
   "metadata": {},
   "outputs": [
    {
     "data": {
      "text/plain": [
       "0"
      ]
     },
     "execution_count": 26,
     "metadata": {},
     "output_type": "execute_result"
    }
   ],
   "source": [
    "# Check to see if there are still NaNs in the Average_GMV_per_Booking column\n",
    "\n",
    "dfRemoved['Average_GMV_per_Booking'].isna().sum()"
   ]
  },
  {
   "cell_type": "markdown",
   "metadata": {},
   "source": [
    "# Data Analysis\n",
    "\n",
    "Now that we have our data all cleaned up, we can start our analysis. Let's start off with taking a look at violin plots to compare between both cohorts"
   ]
  },
  {
   "cell_type": "code",
   "execution_count": 27,
   "metadata": {},
   "outputs": [
    {
     "data": {
      "text/plain": [
       "Text(0.5,0,'Thank You Call Status')"
      ]
     },
     "execution_count": 27,
     "metadata": {},
     "output_type": "execute_result"
    },
    {
     "data": {
      "image/png": "[encoded data removed]",
      "text/plain": [
       "<Figure size 432x288 with 1 Axes>"
      ]
     },
     "metadata": {},
     "output_type": "display_data"
    }
   ],
   "source": [
    "sns.violinplot(data=dfRemoved,x='THANK_YOU_STATUS',y='Average_GMV_per_Booking')\n",
    "plt.title('Average GMV per Booking for Each Cohort')\n",
    "plt.ylabel('Average GMV per Booking')\n",
    "plt.xlabel('Thank You Call Status')\n",
    "\n",
    "# We can see that the spread of average GMV per booking is relatively similar across both cohorts."
   ]
  },
  {
   "cell_type": "markdown",
   "metadata": {},
   "source": [
    "### Checking distributions"
   ]
  },
  {
   "cell_type": "code",
   "execution_count": 28,
   "metadata": {},
   "outputs": [
    {
     "data": {
      "text/plain": [
       "<matplotlib.axes._subplots.AxesSubplot at 0x1c1e57b438>"
      ]
     },
     "execution_count": 28,
     "metadata": {},
     "output_type": "execute_result"
    },
    {
     "data": {
      "image/png": "[encoded data removed]",
      "text/plain": [
       "<Figure size 432x288 with 1 Axes>"
      ]
     },
     "metadata": {},
     "output_type": "display_data"
    }
   ],
   "source": [
    "sns.distplot(dfRemoved['Average_GMV_per_Booking'])"
   ]
  },
  {
   "cell_type": "markdown",
   "metadata": {},
   "source": [
    "### Splitting up the dataset into Two Cohorts"
   ]
  },
  {
   "cell_type": "code",
   "execution_count": 29,
   "metadata": {},
   "outputs": [],
   "source": [
    "# Let's split up the dataset into two cohorts\n",
    "\n",
    "callMade = dfRemoved[dfRemoved['THANK_YOU_STATUS']=='thank_you_call']\n",
    "noCallMade = dfRemoved[dfRemoved['THANK_YOU_STATUS']=='no_call']"
   ]
  },
  {
   "cell_type": "markdown",
   "metadata": {},
   "source": [
    "Let's take a look at the percentage of repeat customers for each cohort:"
   ]
  },
  {
   "cell_type": "code",
   "execution_count": 30,
   "metadata": {},
   "outputs": [
    {
     "data": {
      "text/html": [
       "<div>\n",
       "<style scoped>\n",
       "    .dataframe tbody tr th:only-of-type {\n",
       "        vertical-align: middle;\n",
       "    }\n",
       "\n",
       "    .dataframe tbody tr th {\n",
       "        vertical-align: top;\n",
       "    }\n",
       "\n",
       "    .dataframe thead th {\n",
       "        text-align: right;\n",
       "    }\n",
       "</style>\n",
       "<table border=\"1\" class=\"dataframe\">\n",
       "  <thead>\n",
       "    <tr style=\"text-align: right;\">\n",
       "      <th></th>\n",
       "      <th>Number of Purchases Greater Than or Equal To:</th>\n",
       "      <th>Repeat Rates</th>\n",
       "    </tr>\n",
       "  </thead>\n",
       "  <tbody>\n",
       "    <tr>\n",
       "      <th>0</th>\n",
       "      <td>2</td>\n",
       "      <td>0.276822</td>\n",
       "    </tr>\n",
       "    <tr>\n",
       "      <th>1</th>\n",
       "      <td>3</td>\n",
       "      <td>0.136260</td>\n",
       "    </tr>\n",
       "    <tr>\n",
       "      <th>2</th>\n",
       "      <td>4</td>\n",
       "      <td>0.083122</td>\n",
       "    </tr>\n",
       "    <tr>\n",
       "      <th>3</th>\n",
       "      <td>5</td>\n",
       "      <td>0.057439</td>\n",
       "    </tr>\n",
       "    <tr>\n",
       "      <th>4</th>\n",
       "      <td>6</td>\n",
       "      <td>0.042131</td>\n",
       "    </tr>\n",
       "    <tr>\n",
       "      <th>5</th>\n",
       "      <td>7</td>\n",
       "      <td>0.031756</td>\n",
       "    </tr>\n",
       "    <tr>\n",
       "      <th>6</th>\n",
       "      <td>8</td>\n",
       "      <td>0.025430</td>\n",
       "    </tr>\n",
       "    <tr>\n",
       "      <th>7</th>\n",
       "      <td>9</td>\n",
       "      <td>0.019231</td>\n",
       "    </tr>\n",
       "    <tr>\n",
       "      <th>8</th>\n",
       "      <td>10</td>\n",
       "      <td>0.015056</td>\n",
       "    </tr>\n",
       "  </tbody>\n",
       "</table>\n",
       "</div>"
      ],
      "text/plain": [
       "   Number of Purchases Greater Than or Equal To:  Repeat Rates\n",
       "0                                              2      0.276822\n",
       "1                                              3      0.136260\n",
       "2                                              4      0.083122\n",
       "3                                              5      0.057439\n",
       "4                                              6      0.042131\n",
       "5                                              7      0.031756\n",
       "6                                              8      0.025430\n",
       "7                                              9      0.019231\n",
       "8                                             10      0.015056"
      ]
     },
     "execution_count": 30,
     "metadata": {},
     "output_type": "execute_result"
    }
   ],
   "source": [
    "callMadeRepeat = pd.DataFrame({'Number of Purchases Greater Than or Equal To:':[2,3,4,5,6,7,8,9,10]})\n",
    "repeatRates=[]\n",
    "for i in callMadeRepeat['Number of Purchases Greater Than or Equal To:']:\n",
    "    repeatRates.append(callMade[callMade['BOOKINGS']>=i]['USER_ID'].count()/callMade['USER_ID'].count())\n",
    "callMadeRepeat['Repeat Rates'] = repeatRates\n",
    "callMadeRepeat"
   ]
  },
  {
   "cell_type": "code",
   "execution_count": 31,
   "metadata": {},
   "outputs": [
    {
     "data": {
      "text/html": [
       "<div>\n",
       "<style scoped>\n",
       "    .dataframe tbody tr th:only-of-type {\n",
       "        vertical-align: middle;\n",
       "    }\n",
       "\n",
       "    .dataframe tbody tr th {\n",
       "        vertical-align: top;\n",
       "    }\n",
       "\n",
       "    .dataframe thead th {\n",
       "        text-align: right;\n",
       "    }\n",
       "</style>\n",
       "<table border=\"1\" class=\"dataframe\">\n",
       "  <thead>\n",
       "    <tr style=\"text-align: right;\">\n",
       "      <th></th>\n",
       "      <th>Number of Purchases Greater Than or Equal To:</th>\n",
       "      <th>Repeat Rates</th>\n",
       "    </tr>\n",
       "  </thead>\n",
       "  <tbody>\n",
       "    <tr>\n",
       "      <th>0</th>\n",
       "      <td>2</td>\n",
       "      <td>0.260570</td>\n",
       "    </tr>\n",
       "    <tr>\n",
       "      <th>1</th>\n",
       "      <td>3</td>\n",
       "      <td>0.119815</td>\n",
       "    </tr>\n",
       "    <tr>\n",
       "      <th>2</th>\n",
       "      <td>4</td>\n",
       "      <td>0.072184</td>\n",
       "    </tr>\n",
       "    <tr>\n",
       "      <th>3</th>\n",
       "      <td>5</td>\n",
       "      <td>0.047899</td>\n",
       "    </tr>\n",
       "    <tr>\n",
       "      <th>4</th>\n",
       "      <td>6</td>\n",
       "      <td>0.034720</td>\n",
       "    </tr>\n",
       "    <tr>\n",
       "      <th>5</th>\n",
       "      <td>7</td>\n",
       "      <td>0.026224</td>\n",
       "    </tr>\n",
       "    <tr>\n",
       "      <th>6</th>\n",
       "      <td>8</td>\n",
       "      <td>0.020270</td>\n",
       "    </tr>\n",
       "    <tr>\n",
       "      <th>7</th>\n",
       "      <td>9</td>\n",
       "      <td>0.015922</td>\n",
       "    </tr>\n",
       "    <tr>\n",
       "      <th>8</th>\n",
       "      <td>10</td>\n",
       "      <td>0.013112</td>\n",
       "    </tr>\n",
       "  </tbody>\n",
       "</table>\n",
       "</div>"
      ],
      "text/plain": [
       "   Number of Purchases Greater Than or Equal To:  Repeat Rates\n",
       "0                                              2      0.260570\n",
       "1                                              3      0.119815\n",
       "2                                              4      0.072184\n",
       "3                                              5      0.047899\n",
       "4                                              6      0.034720\n",
       "5                                              7      0.026224\n",
       "6                                              8      0.020270\n",
       "7                                              9      0.015922\n",
       "8                                             10      0.013112"
      ]
     },
     "execution_count": 31,
     "metadata": {},
     "output_type": "execute_result"
    }
   ],
   "source": [
    "noCallMadeRepeat = pd.DataFrame({'Number of Purchases Greater Than or Equal To:':[2,3,4,5,6,7,8,9,10]})\n",
    "repeatRates=[]\n",
    "for i in noCallMadeRepeat['Number of Purchases Greater Than or Equal To:']:\n",
    "    repeatRates.append(noCallMade[noCallMade['BOOKINGS']>=i]['USER_ID'].count()/noCallMade['USER_ID'].count())\n",
    "noCallMadeRepeat['Repeat Rates'] = repeatRates\n",
    "noCallMadeRepeat"
   ]
  },
  {
   "cell_type": "code",
   "execution_count": 32,
   "metadata": {},
   "outputs": [
    {
     "data": {
      "image/png": "[encoded data removed]",
      "text/plain": [
       "<Figure size 720x576 with 1 Axes>"
      ]
     },
     "metadata": {},
     "output_type": "display_data"
    }
   ],
   "source": [
    "plt.figure(figsize=(10,8))\n",
    "plt.plot(callMadeRepeat['Number of Purchases Greater Than or Equal To:'],callMadeRepeat['Repeat Rates'],noCallMadeRepeat['Number of Purchases Greater Than or Equal To:'],noCallMadeRepeat['Repeat Rates'])\n",
    "plt.legend(['Called - Repeat Purchase Rates','No Call - Repeat Purchase Rates'])\n",
    "plt.ylabel('Repeat Purchase Rates')\n",
    "plt.xlabel('Number of Purchases')\n",
    "plt.title('Repeat Purchase Rates versus Number of Purchases')\n",
    "plt.tight_layout()"
   ]
  },
  {
   "cell_type": "markdown",
   "metadata": {},
   "source": [
    "Foreseeably so, the repeat purchase rates eventually taper out to become somewhat equal, as the subset of customers who have purchased 10 or more bookings is much smaller. **This graph indicates that there is a higher propensity of repeat purchases among customers who did receive a thank you call, versus those who did not.** However, the main repeat purchase rate, which occurs when the number of purchases = 2, differs by 1.63%, as follows:"
   ]
  },
  {
   "cell_type": "code",
   "execution_count": 33,
   "metadata": {},
   "outputs": [
    {
     "data": {
      "text/plain": [
       "0.016251886431667584"
      ]
     },
     "execution_count": 33,
     "metadata": {},
     "output_type": "execute_result"
    }
   ],
   "source": [
    "churn = (callMade[callMade['BOOKINGS']>=2]['USER_ID'].count()/callMade['USER_ID'].count()) - (noCallMade[noCallMade['BOOKINGS']>=2]['USER_ID'].count()/noCallMade['USER_ID'].count())\n",
    "churn"
   ]
  },
  {
   "cell_type": "markdown",
   "metadata": {},
   "source": [
    "A churn difference of even 1.63% can have a large impact on expected lifetime GMV and thus lifetime LTR. To see the impact this may have, let's compile some Month over Month data:"
   ]
  },
  {
   "cell_type": "code",
   "execution_count": 34,
   "metadata": {},
   "outputs": [
    {
     "data": {
      "text/html": [
       "<div>\n",
       "<style scoped>\n",
       "    .dataframe tbody tr th:only-of-type {\n",
       "        vertical-align: middle;\n",
       "    }\n",
       "\n",
       "    .dataframe tbody tr th {\n",
       "        vertical-align: top;\n",
       "    }\n",
       "\n",
       "    .dataframe thead th {\n",
       "        text-align: right;\n",
       "    }\n",
       "</style>\n",
       "<table border=\"1\" class=\"dataframe\">\n",
       "  <thead>\n",
       "    <tr style=\"text-align: right;\">\n",
       "      <th></th>\n",
       "      <th>BOOKINGS</th>\n",
       "      <th>GMV</th>\n",
       "      <th>LTR</th>\n",
       "    </tr>\n",
       "    <tr>\n",
       "      <th>MONTH</th>\n",
       "      <th></th>\n",
       "      <th></th>\n",
       "      <th></th>\n",
       "    </tr>\n",
       "  </thead>\n",
       "  <tbody>\n",
       "    <tr>\n",
       "      <th>2017-06-01</th>\n",
       "      <td>1.0</td>\n",
       "      <td>513.179</td>\n",
       "      <td>34.265000</td>\n",
       "    </tr>\n",
       "    <tr>\n",
       "      <th>2017-07-01</th>\n",
       "      <td>3.0</td>\n",
       "      <td>3416.235</td>\n",
       "      <td>228.008000</td>\n",
       "    </tr>\n",
       "    <tr>\n",
       "      <th>2017-08-01</th>\n",
       "      <td>2.0</td>\n",
       "      <td>1337.135</td>\n",
       "      <td>89.243000</td>\n",
       "    </tr>\n",
       "    <tr>\n",
       "      <th>2017-09-01</th>\n",
       "      <td>9.0</td>\n",
       "      <td>4093.447</td>\n",
       "      <td>205.123622</td>\n",
       "    </tr>\n",
       "    <tr>\n",
       "      <th>2017-10-01</th>\n",
       "      <td>52.0</td>\n",
       "      <td>31015.327</td>\n",
       "      <td>1322.888985</td>\n",
       "    </tr>\n",
       "  </tbody>\n",
       "</table>\n",
       "</div>"
      ],
      "text/plain": [
       "            BOOKINGS        GMV          LTR\n",
       "MONTH                                       \n",
       "2017-06-01       1.0    513.179    34.265000\n",
       "2017-07-01       3.0   3416.235   228.008000\n",
       "2017-08-01       2.0   1337.135    89.243000\n",
       "2017-09-01       9.0   4093.447   205.123622\n",
       "2017-10-01      52.0  31015.327  1322.888985"
      ]
     },
     "execution_count": 34,
     "metadata": {},
     "output_type": "execute_result"
    }
   ],
   "source": [
    "# First, for the callMade DataFrame:\n",
    "callPivot = callMade.pivot_table(values=['BOOKINGS','GMV','LTR'],aggfunc='sum',index='MONTH')\n",
    "callPivot.head()"
   ]
  },
  {
   "cell_type": "code",
   "execution_count": 35,
   "metadata": {},
   "outputs": [
    {
     "data": {
      "text/html": [
       "<div>\n",
       "<style scoped>\n",
       "    .dataframe tbody tr th:only-of-type {\n",
       "        vertical-align: middle;\n",
       "    }\n",
       "\n",
       "    .dataframe tbody tr th {\n",
       "        vertical-align: top;\n",
       "    }\n",
       "\n",
       "    .dataframe thead th {\n",
       "        text-align: right;\n",
       "    }\n",
       "</style>\n",
       "<table border=\"1\" class=\"dataframe\">\n",
       "  <thead>\n",
       "    <tr style=\"text-align: right;\">\n",
       "      <th></th>\n",
       "      <th>USER_ID</th>\n",
       "    </tr>\n",
       "    <tr>\n",
       "      <th>MONTH</th>\n",
       "      <th></th>\n",
       "    </tr>\n",
       "  </thead>\n",
       "  <tbody>\n",
       "    <tr>\n",
       "      <th>2017-06-01</th>\n",
       "      <td>1</td>\n",
       "    </tr>\n",
       "    <tr>\n",
       "      <th>2017-07-01</th>\n",
       "      <td>1</td>\n",
       "    </tr>\n",
       "    <tr>\n",
       "      <th>2017-08-01</th>\n",
       "      <td>2</td>\n",
       "    </tr>\n",
       "    <tr>\n",
       "      <th>2017-09-01</th>\n",
       "      <td>4</td>\n",
       "    </tr>\n",
       "    <tr>\n",
       "      <th>2017-10-01</th>\n",
       "      <td>29</td>\n",
       "    </tr>\n",
       "  </tbody>\n",
       "</table>\n",
       "</div>"
      ],
      "text/plain": [
       "            USER_ID\n",
       "MONTH              \n",
       "2017-06-01        1\n",
       "2017-07-01        1\n",
       "2017-08-01        2\n",
       "2017-09-01        4\n",
       "2017-10-01       29"
      ]
     },
     "execution_count": 35,
     "metadata": {},
     "output_type": "execute_result"
    }
   ],
   "source": [
    "# Now let's create a column representing the number of customers per month\n",
    "\n",
    "callCounts = callMade.pivot_table(values='USER_ID',aggfunc='count',index='MONTH')\n",
    "callCounts.head()"
   ]
  },
  {
   "cell_type": "code",
   "execution_count": 36,
   "metadata": {},
   "outputs": [
    {
     "data": {
      "text/html": [
       "<div>\n",
       "<style scoped>\n",
       "    .dataframe tbody tr th:only-of-type {\n",
       "        vertical-align: middle;\n",
       "    }\n",
       "\n",
       "    .dataframe tbody tr th {\n",
       "        vertical-align: top;\n",
       "    }\n",
       "\n",
       "    .dataframe thead th {\n",
       "        text-align: right;\n",
       "    }\n",
       "</style>\n",
       "<table border=\"1\" class=\"dataframe\">\n",
       "  <thead>\n",
       "    <tr style=\"text-align: right;\">\n",
       "      <th></th>\n",
       "      <th>BOOKINGS</th>\n",
       "      <th>GMV</th>\n",
       "      <th>LTR</th>\n",
       "      <th>Number of Customers</th>\n",
       "    </tr>\n",
       "    <tr>\n",
       "      <th>MONTH</th>\n",
       "      <th></th>\n",
       "      <th></th>\n",
       "      <th></th>\n",
       "      <th></th>\n",
       "    </tr>\n",
       "  </thead>\n",
       "  <tbody>\n",
       "    <tr>\n",
       "      <th>2017-06-01</th>\n",
       "      <td>1.0</td>\n",
       "      <td>513.179</td>\n",
       "      <td>34.265000</td>\n",
       "      <td>1</td>\n",
       "    </tr>\n",
       "    <tr>\n",
       "      <th>2017-07-01</th>\n",
       "      <td>3.0</td>\n",
       "      <td>3416.235</td>\n",
       "      <td>228.008000</td>\n",
       "      <td>1</td>\n",
       "    </tr>\n",
       "    <tr>\n",
       "      <th>2017-08-01</th>\n",
       "      <td>2.0</td>\n",
       "      <td>1337.135</td>\n",
       "      <td>89.243000</td>\n",
       "      <td>2</td>\n",
       "    </tr>\n",
       "    <tr>\n",
       "      <th>2017-09-01</th>\n",
       "      <td>9.0</td>\n",
       "      <td>4093.447</td>\n",
       "      <td>205.123622</td>\n",
       "      <td>4</td>\n",
       "    </tr>\n",
       "    <tr>\n",
       "      <th>2017-10-01</th>\n",
       "      <td>52.0</td>\n",
       "      <td>31015.327</td>\n",
       "      <td>1322.888985</td>\n",
       "      <td>29</td>\n",
       "    </tr>\n",
       "  </tbody>\n",
       "</table>\n",
       "</div>"
      ],
      "text/plain": [
       "            BOOKINGS        GMV          LTR  Number of Customers\n",
       "MONTH                                                            \n",
       "2017-06-01       1.0    513.179    34.265000                    1\n",
       "2017-07-01       3.0   3416.235   228.008000                    1\n",
       "2017-08-01       2.0   1337.135    89.243000                    2\n",
       "2017-09-01       9.0   4093.447   205.123622                    4\n",
       "2017-10-01      52.0  31015.327  1322.888985                   29"
      ]
     },
     "execution_count": 36,
     "metadata": {},
     "output_type": "execute_result"
    }
   ],
   "source": [
    "callPivot = callPivot.join(callCounts,on='MONTH')\n",
    "callPivot.rename(columns={'USER_ID':'Number of Customers'},inplace=True)\n",
    "callPivot.head()"
   ]
  },
  {
   "cell_type": "code",
   "execution_count": 37,
   "metadata": {},
   "outputs": [
    {
     "data": {
      "text/html": [
       "<div>\n",
       "<style scoped>\n",
       "    .dataframe tbody tr th:only-of-type {\n",
       "        vertical-align: middle;\n",
       "    }\n",
       "\n",
       "    .dataframe tbody tr th {\n",
       "        vertical-align: top;\n",
       "    }\n",
       "\n",
       "    .dataframe thead th {\n",
       "        text-align: right;\n",
       "    }\n",
       "</style>\n",
       "<table border=\"1\" class=\"dataframe\">\n",
       "  <thead>\n",
       "    <tr style=\"text-align: right;\">\n",
       "      <th></th>\n",
       "      <th>BOOKINGS</th>\n",
       "      <th>GMV</th>\n",
       "      <th>LTR</th>\n",
       "      <th>Number of Customers</th>\n",
       "    </tr>\n",
       "    <tr>\n",
       "      <th>MONTH</th>\n",
       "      <th></th>\n",
       "      <th></th>\n",
       "      <th></th>\n",
       "      <th></th>\n",
       "    </tr>\n",
       "  </thead>\n",
       "  <tbody>\n",
       "    <tr>\n",
       "      <th>2017-06-01</th>\n",
       "      <td>5.0</td>\n",
       "      <td>5068.210</td>\n",
       "      <td>164.634052</td>\n",
       "      <td>1</td>\n",
       "    </tr>\n",
       "    <tr>\n",
       "      <th>2017-08-01</th>\n",
       "      <td>13.0</td>\n",
       "      <td>7374.498</td>\n",
       "      <td>410.500200</td>\n",
       "      <td>6</td>\n",
       "    </tr>\n",
       "    <tr>\n",
       "      <th>2017-09-01</th>\n",
       "      <td>7.0</td>\n",
       "      <td>4678.332</td>\n",
       "      <td>361.626342</td>\n",
       "      <td>2</td>\n",
       "    </tr>\n",
       "    <tr>\n",
       "      <th>2017-10-01</th>\n",
       "      <td>14.0</td>\n",
       "      <td>7410.300</td>\n",
       "      <td>409.347290</td>\n",
       "      <td>9</td>\n",
       "    </tr>\n",
       "    <tr>\n",
       "      <th>2017-11-01</th>\n",
       "      <td>80.0</td>\n",
       "      <td>48030.814</td>\n",
       "      <td>2314.692589</td>\n",
       "      <td>51</td>\n",
       "    </tr>\n",
       "  </tbody>\n",
       "</table>\n",
       "</div>"
      ],
      "text/plain": [
       "            BOOKINGS        GMV          LTR  Number of Customers\n",
       "MONTH                                                            \n",
       "2017-06-01       5.0   5068.210   164.634052                    1\n",
       "2017-08-01      13.0   7374.498   410.500200                    6\n",
       "2017-09-01       7.0   4678.332   361.626342                    2\n",
       "2017-10-01      14.0   7410.300   409.347290                    9\n",
       "2017-11-01      80.0  48030.814  2314.692589                   51"
      ]
     },
     "execution_count": 37,
     "metadata": {},
     "output_type": "execute_result"
    }
   ],
   "source": [
    "# Let's do that again for our noCallMade DataFrame:\n",
    "\n",
    "noCallPivot = noCallMade.pivot_table(values=['BOOKINGS','GMV','LTR'],aggfunc='sum',index='MONTH')\n",
    "noCallCounts = noCallMade.pivot_table(values='USER_ID',aggfunc='count',index='MONTH')\n",
    "noCallPivot = noCallPivot.join(noCallCounts,on='MONTH')\n",
    "noCallPivot.rename(columns={'USER_ID':'Number of Customers'},inplace=True)\n",
    "noCallPivot.head()"
   ]
  },
  {
   "cell_type": "code",
   "execution_count": 38,
   "metadata": {},
   "outputs": [
    {
     "data": {
      "text/plain": [
       "22852"
      ]
     },
     "execution_count": 38,
     "metadata": {},
     "output_type": "execute_result"
    }
   ],
   "source": [
    "# Total number of customers left\n",
    "\n",
    "callPivot['Number of Customers'].sum() + noCallPivot['Number of Customers'].sum()"
   ]
  },
  {
   "cell_type": "code",
   "execution_count": 39,
   "metadata": {},
   "outputs": [
    {
     "data": {
      "text/html": [
       "<div>\n",
       "<style scoped>\n",
       "    .dataframe tbody tr th:only-of-type {\n",
       "        vertical-align: middle;\n",
       "    }\n",
       "\n",
       "    .dataframe tbody tr th {\n",
       "        vertical-align: top;\n",
       "    }\n",
       "\n",
       "    .dataframe thead th {\n",
       "        text-align: right;\n",
       "    }\n",
       "</style>\n",
       "<table border=\"1\" class=\"dataframe\">\n",
       "  <thead>\n",
       "    <tr style=\"text-align: right;\">\n",
       "      <th></th>\n",
       "      <th>BOOKINGS</th>\n",
       "      <th>GMV</th>\n",
       "      <th>LTR</th>\n",
       "      <th>Number of Customers</th>\n",
       "      <th>avg_bookings</th>\n",
       "      <th>avg_GMV</th>\n",
       "      <th>avg_LTR</th>\n",
       "      <th>avg_GMV_per_booking</th>\n",
       "      <th>avg_GMVpb_per_customer</th>\n",
       "    </tr>\n",
       "    <tr>\n",
       "      <th>MONTH</th>\n",
       "      <th></th>\n",
       "      <th></th>\n",
       "      <th></th>\n",
       "      <th></th>\n",
       "      <th></th>\n",
       "      <th></th>\n",
       "      <th></th>\n",
       "      <th></th>\n",
       "      <th></th>\n",
       "    </tr>\n",
       "  </thead>\n",
       "  <tbody>\n",
       "    <tr>\n",
       "      <th>2017-06-01</th>\n",
       "      <td>1.0</td>\n",
       "      <td>513.179</td>\n",
       "      <td>34.265000</td>\n",
       "      <td>1</td>\n",
       "      <td>1.000000</td>\n",
       "      <td>513.179000</td>\n",
       "      <td>34.265000</td>\n",
       "      <td>513.179000</td>\n",
       "      <td>513.179000</td>\n",
       "    </tr>\n",
       "    <tr>\n",
       "      <th>2017-07-01</th>\n",
       "      <td>3.0</td>\n",
       "      <td>3416.235</td>\n",
       "      <td>228.008000</td>\n",
       "      <td>1</td>\n",
       "      <td>3.000000</td>\n",
       "      <td>3416.235000</td>\n",
       "      <td>228.008000</td>\n",
       "      <td>1138.745000</td>\n",
       "      <td>1138.745000</td>\n",
       "    </tr>\n",
       "    <tr>\n",
       "      <th>2017-08-01</th>\n",
       "      <td>2.0</td>\n",
       "      <td>1337.135</td>\n",
       "      <td>89.243000</td>\n",
       "      <td>2</td>\n",
       "      <td>1.000000</td>\n",
       "      <td>668.567500</td>\n",
       "      <td>44.621500</td>\n",
       "      <td>668.567500</td>\n",
       "      <td>334.283750</td>\n",
       "    </tr>\n",
       "    <tr>\n",
       "      <th>2017-09-01</th>\n",
       "      <td>9.0</td>\n",
       "      <td>4093.447</td>\n",
       "      <td>205.123622</td>\n",
       "      <td>4</td>\n",
       "      <td>2.250000</td>\n",
       "      <td>1023.361750</td>\n",
       "      <td>51.280906</td>\n",
       "      <td>454.827444</td>\n",
       "      <td>113.706861</td>\n",
       "    </tr>\n",
       "    <tr>\n",
       "      <th>2017-10-01</th>\n",
       "      <td>52.0</td>\n",
       "      <td>31015.327</td>\n",
       "      <td>1322.888985</td>\n",
       "      <td>29</td>\n",
       "      <td>1.793103</td>\n",
       "      <td>1069.494034</td>\n",
       "      <td>45.616862</td>\n",
       "      <td>596.448596</td>\n",
       "      <td>20.567193</td>\n",
       "    </tr>\n",
       "  </tbody>\n",
       "</table>\n",
       "</div>"
      ],
      "text/plain": [
       "            BOOKINGS        GMV          LTR  Number of Customers  \\\n",
       "MONTH                                                               \n",
       "2017-06-01       1.0    513.179    34.265000                    1   \n",
       "2017-07-01       3.0   3416.235   228.008000                    1   \n",
       "2017-08-01       2.0   1337.135    89.243000                    2   \n",
       "2017-09-01       9.0   4093.447   205.123622                    4   \n",
       "2017-10-01      52.0  31015.327  1322.888985                   29   \n",
       "\n",
       "            avg_bookings      avg_GMV     avg_LTR  avg_GMV_per_booking  \\\n",
       "MONTH                                                                    \n",
       "2017-06-01      1.000000   513.179000   34.265000           513.179000   \n",
       "2017-07-01      3.000000  3416.235000  228.008000          1138.745000   \n",
       "2017-08-01      1.000000   668.567500   44.621500           668.567500   \n",
       "2017-09-01      2.250000  1023.361750   51.280906           454.827444   \n",
       "2017-10-01      1.793103  1069.494034   45.616862           596.448596   \n",
       "\n",
       "            avg_GMVpb_per_customer  \n",
       "MONTH                               \n",
       "2017-06-01              513.179000  \n",
       "2017-07-01             1138.745000  \n",
       "2017-08-01              334.283750  \n",
       "2017-09-01              113.706861  \n",
       "2017-10-01               20.567193  "
      ]
     },
     "execution_count": 39,
     "metadata": {},
     "output_type": "execute_result"
    }
   ],
   "source": [
    "# Calculate average Bookings, GMV, and LTR per month, per customer\n",
    "\n",
    "callPivot['avg_bookings'] = callPivot['BOOKINGS']/callPivot['Number of Customers']\n",
    "callPivot['avg_GMV'] = callPivot['GMV']/callPivot['Number of Customers']\n",
    "callPivot['avg_LTR'] = callPivot['LTR']/callPivot['Number of Customers']\n",
    "callPivot['avg_GMV_per_booking'] = callPivot['GMV']/callPivot['BOOKINGS']\n",
    "callPivot['avg_GMVpb_per_customer'] = callPivot['avg_GMV_per_booking']/callPivot['Number of Customers']\n",
    "\n",
    "callPivot.head()"
   ]
  },
  {
   "cell_type": "code",
   "execution_count": 40,
   "metadata": {},
   "outputs": [
    {
     "data": {
      "text/html": [
       "<div>\n",
       "<style scoped>\n",
       "    .dataframe tbody tr th:only-of-type {\n",
       "        vertical-align: middle;\n",
       "    }\n",
       "\n",
       "    .dataframe tbody tr th {\n",
       "        vertical-align: top;\n",
       "    }\n",
       "\n",
       "    .dataframe thead th {\n",
       "        text-align: right;\n",
       "    }\n",
       "</style>\n",
       "<table border=\"1\" class=\"dataframe\">\n",
       "  <thead>\n",
       "    <tr style=\"text-align: right;\">\n",
       "      <th></th>\n",
       "      <th>BOOKINGS</th>\n",
       "      <th>GMV</th>\n",
       "      <th>LTR</th>\n",
       "      <th>Number of Customers</th>\n",
       "      <th>avg_bookings</th>\n",
       "      <th>avg_GMV</th>\n",
       "      <th>avg_LTR</th>\n",
       "      <th>avg_GMV_per_booking</th>\n",
       "      <th>avg_GMVpb_per_customer</th>\n",
       "    </tr>\n",
       "    <tr>\n",
       "      <th>MONTH</th>\n",
       "      <th></th>\n",
       "      <th></th>\n",
       "      <th></th>\n",
       "      <th></th>\n",
       "      <th></th>\n",
       "      <th></th>\n",
       "      <th></th>\n",
       "      <th></th>\n",
       "      <th></th>\n",
       "    </tr>\n",
       "  </thead>\n",
       "  <tbody>\n",
       "    <tr>\n",
       "      <th>2017-06-01</th>\n",
       "      <td>5.0</td>\n",
       "      <td>5068.210</td>\n",
       "      <td>164.634052</td>\n",
       "      <td>1</td>\n",
       "      <td>5.000000</td>\n",
       "      <td>5068.210000</td>\n",
       "      <td>164.634052</td>\n",
       "      <td>1013.642000</td>\n",
       "      <td>1013.642000</td>\n",
       "    </tr>\n",
       "    <tr>\n",
       "      <th>2017-08-01</th>\n",
       "      <td>13.0</td>\n",
       "      <td>7374.498</td>\n",
       "      <td>410.500200</td>\n",
       "      <td>6</td>\n",
       "      <td>2.166667</td>\n",
       "      <td>1229.083000</td>\n",
       "      <td>68.416700</td>\n",
       "      <td>567.269077</td>\n",
       "      <td>94.544846</td>\n",
       "    </tr>\n",
       "    <tr>\n",
       "      <th>2017-09-01</th>\n",
       "      <td>7.0</td>\n",
       "      <td>4678.332</td>\n",
       "      <td>361.626342</td>\n",
       "      <td>2</td>\n",
       "      <td>3.500000</td>\n",
       "      <td>2339.166000</td>\n",
       "      <td>180.813171</td>\n",
       "      <td>668.333143</td>\n",
       "      <td>334.166571</td>\n",
       "    </tr>\n",
       "    <tr>\n",
       "      <th>2017-10-01</th>\n",
       "      <td>14.0</td>\n",
       "      <td>7410.300</td>\n",
       "      <td>409.347290</td>\n",
       "      <td>9</td>\n",
       "      <td>1.555556</td>\n",
       "      <td>823.366667</td>\n",
       "      <td>45.483032</td>\n",
       "      <td>529.307143</td>\n",
       "      <td>58.811905</td>\n",
       "    </tr>\n",
       "    <tr>\n",
       "      <th>2017-11-01</th>\n",
       "      <td>80.0</td>\n",
       "      <td>48030.814</td>\n",
       "      <td>2314.692589</td>\n",
       "      <td>51</td>\n",
       "      <td>1.568627</td>\n",
       "      <td>941.780667</td>\n",
       "      <td>45.386129</td>\n",
       "      <td>600.385175</td>\n",
       "      <td>11.772258</td>\n",
       "    </tr>\n",
       "  </tbody>\n",
       "</table>\n",
       "</div>"
      ],
      "text/plain": [
       "            BOOKINGS        GMV          LTR  Number of Customers  \\\n",
       "MONTH                                                               \n",
       "2017-06-01       5.0   5068.210   164.634052                    1   \n",
       "2017-08-01      13.0   7374.498   410.500200                    6   \n",
       "2017-09-01       7.0   4678.332   361.626342                    2   \n",
       "2017-10-01      14.0   7410.300   409.347290                    9   \n",
       "2017-11-01      80.0  48030.814  2314.692589                   51   \n",
       "\n",
       "            avg_bookings      avg_GMV     avg_LTR  avg_GMV_per_booking  \\\n",
       "MONTH                                                                    \n",
       "2017-06-01      5.000000  5068.210000  164.634052          1013.642000   \n",
       "2017-08-01      2.166667  1229.083000   68.416700           567.269077   \n",
       "2017-09-01      3.500000  2339.166000  180.813171           668.333143   \n",
       "2017-10-01      1.555556   823.366667   45.483032           529.307143   \n",
       "2017-11-01      1.568627   941.780667   45.386129           600.385175   \n",
       "\n",
       "            avg_GMVpb_per_customer  \n",
       "MONTH                               \n",
       "2017-06-01             1013.642000  \n",
       "2017-08-01               94.544846  \n",
       "2017-09-01              334.166571  \n",
       "2017-10-01               58.811905  \n",
       "2017-11-01               11.772258  "
      ]
     },
     "execution_count": 40,
     "metadata": {},
     "output_type": "execute_result"
    }
   ],
   "source": [
    "# Do the same for our noCallsMade Dataset\n",
    "\n",
    "noCallPivot['avg_bookings'] = noCallPivot['BOOKINGS']/noCallPivot['Number of Customers']\n",
    "noCallPivot['avg_GMV'] = noCallPivot['GMV']/noCallPivot['Number of Customers']\n",
    "noCallPivot['avg_LTR'] = noCallPivot['LTR']/noCallPivot['Number of Customers']\n",
    "noCallPivot['avg_GMV_per_booking'] = noCallPivot['GMV']/noCallPivot['BOOKINGS']\n",
    "noCallPivot['avg_GMVpb_per_customer'] = noCallPivot['avg_GMV_per_booking']/noCallPivot['Number of Customers']\n",
    "\n",
    "noCallPivot.head()"
   ]
  },
  {
   "cell_type": "markdown",
   "metadata": {},
   "source": [
    "Let's see the growth of customers in each cohort:"
   ]
  },
  {
   "cell_type": "code",
   "execution_count": 41,
   "metadata": {},
   "outputs": [
    {
     "data": {
      "image/png": "[encoded data removed]",
      "text/plain": [
       "<Figure size 720x720 with 1 Axes>"
      ]
     },
     "metadata": {},
     "output_type": "display_data"
    }
   ],
   "source": [
    "plt.figure(figsize=(10,10))\n",
    "plt.plot(callPivot.index,callPivot['Number of Customers'],noCallPivot.index,noCallPivot['Number of Customers'])\n",
    "plt.legend(['Called - Number of Customers','No Call - Number of Customers'])\n",
    "plt.tick_params(\n",
    "    axis='x',          # changes apply to the x-axis\n",
    "    which='both',      # both major and minor ticks are affected\n",
    "    bottom=False,      # ticks along the bottom edge are off\n",
    "    top=False,         # ticks along the top edge are off\n",
    "    labelbottom=False) # labels along the bottom edge are off\n",
    "plt.xlabel('Time')\n",
    "plt.ylabel('Number of Customers per Month')\n",
    "plt.title('New Customers per Month over Time')\n",
    "plt.tight_layout()"
   ]
  },
  {
   "cell_type": "markdown",
   "metadata": {},
   "source": [
    "Now, let's take a look at overall customer growth, using running totals for each month:"
   ]
  },
  {
   "cell_type": "code",
   "execution_count": 42,
   "metadata": {},
   "outputs": [],
   "source": [
    "dfPivot = df.pivot_table(values='USER_ID',aggfunc='count',index='MONTH')"
   ]
  },
  {
   "cell_type": "code",
   "execution_count": 71,
   "metadata": {},
   "outputs": [
    {
     "data": {
      "text/html": [
       "<div>\n",
       "<style scoped>\n",
       "    .dataframe tbody tr th:only-of-type {\n",
       "        vertical-align: middle;\n",
       "    }\n",
       "\n",
       "    .dataframe tbody tr th {\n",
       "        vertical-align: top;\n",
       "    }\n",
       "\n",
       "    .dataframe thead th {\n",
       "        text-align: right;\n",
       "    }\n",
       "</style>\n",
       "<table border=\"1\" class=\"dataframe\">\n",
       "  <thead>\n",
       "    <tr style=\"text-align: right;\">\n",
       "      <th></th>\n",
       "      <th>USER_ID</th>\n",
       "      <th>Running Total</th>\n",
       "    </tr>\n",
       "    <tr>\n",
       "      <th>MONTH</th>\n",
       "      <th></th>\n",
       "      <th></th>\n",
       "    </tr>\n",
       "  </thead>\n",
       "  <tbody>\n",
       "    <tr>\n",
       "      <th>2017-05-01</th>\n",
       "      <td>2</td>\n",
       "      <td>2</td>\n",
       "    </tr>\n",
       "    <tr>\n",
       "      <th>2017-06-01</th>\n",
       "      <td>2</td>\n",
       "      <td>4</td>\n",
       "    </tr>\n",
       "    <tr>\n",
       "      <th>2017-07-01</th>\n",
       "      <td>1</td>\n",
       "      <td>5</td>\n",
       "    </tr>\n",
       "    <tr>\n",
       "      <th>2017-08-01</th>\n",
       "      <td>10</td>\n",
       "      <td>15</td>\n",
       "    </tr>\n",
       "    <tr>\n",
       "      <th>2017-09-01</th>\n",
       "      <td>10</td>\n",
       "      <td>25</td>\n",
       "    </tr>\n",
       "  </tbody>\n",
       "</table>\n",
       "</div>"
      ],
      "text/plain": [
       "            USER_ID  Running Total\n",
       "MONTH                             \n",
       "2017-05-01        2              2\n",
       "2017-06-01        2              4\n",
       "2017-07-01        1              5\n",
       "2017-08-01       10             15\n",
       "2017-09-01       10             25"
      ]
     },
     "execution_count": 71,
     "metadata": {},
     "output_type": "execute_result"
    }
   ],
   "source": [
    "dfPivot['Running Total'] = np.cumsum(dfPivot['USER_ID'])\n",
    "dfPivot.head()"
   ]
  },
  {
   "cell_type": "code",
   "execution_count": 44,
   "metadata": {},
   "outputs": [
    {
     "data": {
      "image/png": "[encoded data removed]",
      "text/plain": [
       "<Figure size 720x576 with 1 Axes>"
      ]
     },
     "metadata": {},
     "output_type": "display_data"
    }
   ],
   "source": [
    "plt.figure(figsize=(10,8))\n",
    "plt.plot(dfPivot.index,dfPivot['Running Total'])\n",
    "plt.tick_params(\n",
    "    axis='x',          # changes apply to the x-axis\n",
    "    which='both',      # both major and minor ticks are affected\n",
    "    bottom=False,      # ticks along the bottom edge are off\n",
    "    top=False,         # ticks along the top edge are off\n",
    "    labelbottom=False) # labels along the bottom edge are off\n",
    "plt.xlabel('Time')\n",
    "plt.ylabel('Number of Customers')\n",
    "plt.title('Total Customers per Month over Time')\n",
    "plt.tight_layout()"
   ]
  },
  {
   "cell_type": "code",
   "execution_count": 72,
   "metadata": {},
   "outputs": [
    {
     "data": {
      "text/plain": [
       "11865.0"
      ]
     },
     "execution_count": 72,
     "metadata": {},
     "output_type": "execute_result"
    }
   ],
   "source": [
    "# Let's take a look at overall customer growth within this subset over the two-year span:\n",
    "\n",
    "dfPivot['Running Total'][-1]/dfPivot['Running Total'][0] - 1\n",
    "\n",
    "# That's over 1,186,500% growth over 2 years!"
   ]
  },
  {
   "cell_type": "markdown",
   "metadata": {},
   "source": [
    "We can see that the customer base has been growing rapidly. However, most new customers aren't receiving any thank you calls. As we had seen before, the churn rate could potentially impactful with a growing customer base. Let's see the difference this could make by looking at some numbers:"
   ]
  },
  {
   "cell_type": "code",
   "execution_count": 46,
   "metadata": {},
   "outputs": [
    {
     "data": {
      "text/plain": [
       "6083"
      ]
     },
     "execution_count": 46,
     "metadata": {},
     "output_type": "execute_result"
    }
   ],
   "source": [
    "# Total Number of Customers with Repeat Purchases:\n",
    "\n",
    "totalCustomers = dfRemoved[dfRemoved['BOOKINGS']>=2]['USER_ID'].count()\n",
    "totalCustomers"
   ]
  },
  {
   "cell_type": "code",
   "execution_count": 47,
   "metadata": {},
   "outputs": [],
   "source": [
    "# Total GMV Generated from Repeat Purchases (per customer):\n",
    "\n",
    "totalGMV = dfRemoved[dfRemoved['BOOKINGS']>=2]['GMV'].sum()\n",
    "GMVperCustomer = totalGMV/totalCustomers"
   ]
  },
  {
   "cell_type": "code",
   "execution_count": 48,
   "metadata": {},
   "outputs": [],
   "source": [
    "# Total LTR Generated from Repeat Purchases (per customer):\n",
    "\n",
    "totalLTR = dfRemoved[dfRemoved['BOOKINGS']>=2]['LTR'].sum()\n",
    "LTRperCustomer = totalLTR/totalCustomers"
   ]
  },
  {
   "cell_type": "code",
   "execution_count": 49,
   "metadata": {},
   "outputs": [
    {
     "data": {
      "text/plain": [
       "33.62438747857674"
      ]
     },
     "execution_count": 49,
     "metadata": {},
     "output_type": "execute_result"
    }
   ],
   "source": [
    "# The churn rate indicates a difference in per Customer GMV of:\n",
    "\n",
    "GMVperCustomer*churn"
   ]
  },
  {
   "cell_type": "code",
   "execution_count": 50,
   "metadata": {},
   "outputs": [
    {
     "data": {
      "text/plain": [
       "2.0346567145455783"
      ]
     },
     "execution_count": 50,
     "metadata": {},
     "output_type": "execute_result"
    }
   ],
   "source": [
    "# And an LTR per customer of:\n",
    "\n",
    "LTRperCustomer*churn"
   ]
  },
  {
   "cell_type": "markdown",
   "metadata": {},
   "source": [
    "These values are only evaluated over the basis of 24 months of data after the data cleaning process. Moreover, let's assume the company has a customer base of 1 million customers, and that all customer behaviour is similar to that in this dataset. Let's assume 65% of these customers did not receive a call."
   ]
  },
  {
   "cell_type": "code",
   "execution_count": 73,
   "metadata": {},
   "outputs": [
    {
     "data": {
      "text/plain": [
       "1322526.864454626"
      ]
     },
     "execution_count": 73,
     "metadata": {},
     "output_type": "execute_result"
    }
   ],
   "source": [
    "1000000*0.65*LTRperCustomer*churn"
   ]
  },
  {
   "cell_type": "code",
   "execution_count": 74,
   "metadata": {},
   "outputs": [
    {
     "data": {
      "text/plain": [
       "21855851.861074883"
      ]
     },
     "execution_count": 74,
     "metadata": {},
     "output_type": "execute_result"
    }
   ],
   "source": [
    "1000000*0.65*GMVperCustomer*churn"
   ]
  },
  {
   "cell_type": "markdown",
   "metadata": {},
   "source": [
    "We can see that this could impact the numbers greatly. By over 1.3 million CAD in LTR and around 22 million CAD in GMV over the course of 24 months.\n",
    "\n",
    "Now let's see if the average bookings per customer for each cohort differs from the other."
   ]
  },
  {
   "cell_type": "code",
   "execution_count": 53,
   "metadata": {},
   "outputs": [
    {
     "data": {
      "text/plain": [
       "1.805161943319838"
      ]
     },
     "execution_count": 53,
     "metadata": {},
     "output_type": "execute_result"
    }
   ],
   "source": [
    "callMadeAvgBookings = callMade['BOOKINGS'].mean()\n",
    "callMadeAvgBookings"
   ]
  },
  {
   "cell_type": "code",
   "execution_count": 54,
   "metadata": {},
   "outputs": [
    {
     "data": {
      "text/plain": [
       "1.723976451699224"
      ]
     },
     "execution_count": 54,
     "metadata": {},
     "output_type": "execute_result"
    }
   ],
   "source": [
    "noCallMadeAvgBookings = noCallMade['BOOKINGS'].mean()\n",
    "noCallMadeAvgBookings"
   ]
  },
  {
   "cell_type": "code",
   "execution_count": 63,
   "metadata": {},
   "outputs": [],
   "source": [
    "purchaseDifference = callMadeAvgBookings/noCallMadeAvgBookings - 1"
   ]
  },
  {
   "cell_type": "markdown",
   "metadata": {},
   "source": [
    "We can now see that there is a 4.71% difference between the two means. This indicates that, on average, when a customer is given a thank you call, they will purchase 4.71% more bookings. Let's see if this figure is statistically significant:"
   ]
  },
  {
   "cell_type": "code",
   "execution_count": 56,
   "metadata": {},
   "outputs": [
    {
     "name": "stdout",
     "output_type": "stream",
     "text": [
      "t = 1.9950885111967962\n",
      "p = 0.04604508210230207\n"
     ]
    }
   ],
   "source": [
    "# Conduct a statistical test of significance between the two means.\n",
    "\n",
    "from scipy import stats\n",
    "\n",
    "t2, p2 = stats.ttest_ind(callMade['BOOKINGS'],noCallMade['BOOKINGS'])\n",
    "\n",
    "print(\"t = \" + str(t2))\n",
    "print(\"p = \" + str(p2))"
   ]
  },
  {
   "cell_type": "markdown",
   "metadata": {},
   "source": [
    "Since p < 0.05, at the 5 per cent level of significance, we can see that there is indeed a statistical difference between the two means! Thus, we see that **average bookings per customer are 4.71% higher when customers receive a thank you call**. This could have potentially increased the total bookings of the cohort that did not receive calls by around 53,000 bookings, as follows:"
   ]
  },
  {
   "cell_type": "code",
   "execution_count": 64,
   "metadata": {},
   "outputs": [
    {
     "data": {
      "text/plain": [
       "52770.569553399066"
      ]
     },
     "execution_count": 64,
     "metadata": {},
     "output_type": "execute_result"
    }
   ],
   "source": [
    "noCallMadeAvgBookings = noCallMade['BOOKINGS'].mean()\n",
    "\n",
    "# assume 65% of the customers received no call\n",
    "\n",
    "1000000*0.65*noCallMadeAvgBookings*purchaseDifference "
   ]
  },
  {
   "cell_type": "markdown",
   "metadata": {},
   "source": [
    "In addition, let's look at the average bookings per customer per month:"
   ]
  },
  {
   "cell_type": "code",
   "execution_count": 60,
   "metadata": {},
   "outputs": [
    {
     "data": {
      "image/png": "[encoded data removed]",
      "text/plain": [
       "<Figure size 720x576 with 1 Axes>"
      ]
     },
     "metadata": {},
     "output_type": "display_data"
    }
   ],
   "source": [
    "plt.figure(figsize=(10,8))\n",
    "plt.plot(callPivot.index,callPivot['avg_bookings'],noCallPivot.index,noCallPivot['avg_bookings'])\n",
    "plt.tick_params(\n",
    "    axis='x',          # changes apply to the x-axis\n",
    "    which='both',      # both major and minor ticks are affected\n",
    "    bottom=False,      # ticks along the bottom edge are off\n",
    "    top=False,         # ticks along the top edge are off\n",
    "    labelbottom=False) # labels along the bottom edge are off\n",
    "plt.xlabel('Time')\n",
    "plt.ylabel('Average Bookings per Customer')\n",
    "plt.title('Average Bookings per Customer over Time')\n",
    "plt.tight_layout()"
   ]
  },
  {
   "cell_type": "markdown",
   "metadata": {},
   "source": [
    "Nothing special there, and understandably so. Some of these customers have been around for 2 years, while others, only for a month! \n",
    "\n",
    "Repeat purchase rates are the way to go for evaluating this problem!"
   ]
  },
  {
   "cell_type": "markdown",
   "metadata": {},
   "source": [
    "Save the cleaned up data"
   ]
  },
  {
   "cell_type": "code",
   "execution_count": null,
   "metadata": {},
   "outputs": [],
   "source": [
    "#dfRemoved.to_csv('dfRemoved.csv')"
   ]
  }
 ],
 "metadata": {
  "kernelspec": {
   "display_name": "Python 3",
   "language": "python",
   "name": "python3"
  },
  "language_info": {
   "codemirror_mode": {
    "name": "ipython",
    "version": 3
   },
   "file_extension": ".py",
   "mimetype": "text/x-python",
   "name": "python",
   "nbconvert_exporter": "python",
   "pygments_lexer": "ipython3",
   "version": "3.6.9"
  }
 },
 "nbformat": 4,
 "nbformat_minor": 2
}
